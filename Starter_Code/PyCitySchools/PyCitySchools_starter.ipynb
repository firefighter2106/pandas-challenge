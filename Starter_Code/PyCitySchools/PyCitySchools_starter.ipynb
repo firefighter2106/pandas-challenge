{
 "cells": [
  {
   "attachments": {},
   "cell_type": "markdown",
   "metadata": {},
   "source": [
    "# PyCity Schools Analysis\n",
    "\n",
    "- Your analysis here\n",
    "  \n",
    "---"
   ]
  },
  {
   "cell_type": "code",
   "execution_count": 1,
   "metadata": {},
   "outputs": [
    {
     "data": {
      "text/html": [
       "<div>\n",
       "<style scoped>\n",
       "    .dataframe tbody tr th:only-of-type {\n",
       "        vertical-align: middle;\n",
       "    }\n",
       "\n",
       "    .dataframe tbody tr th {\n",
       "        vertical-align: top;\n",
       "    }\n",
       "\n",
       "    .dataframe thead th {\n",
       "        text-align: right;\n",
       "    }\n",
       "</style>\n",
       "<table border=\"1\" class=\"dataframe\">\n",
       "  <thead>\n",
       "    <tr style=\"text-align: right;\">\n",
       "      <th></th>\n",
       "      <th>Student ID</th>\n",
       "      <th>student_name</th>\n",
       "      <th>gender</th>\n",
       "      <th>grade</th>\n",
       "      <th>school_name</th>\n",
       "      <th>reading_score</th>\n",
       "      <th>math_score</th>\n",
       "      <th>School ID</th>\n",
       "      <th>type</th>\n",
       "      <th>size</th>\n",
       "      <th>budget</th>\n",
       "    </tr>\n",
       "  </thead>\n",
       "  <tbody>\n",
       "    <tr>\n",
       "      <th>0</th>\n",
       "      <td>0</td>\n",
       "      <td>Paul Bradley</td>\n",
       "      <td>M</td>\n",
       "      <td>9th</td>\n",
       "      <td>Huang High School</td>\n",
       "      <td>66</td>\n",
       "      <td>79</td>\n",
       "      <td>0</td>\n",
       "      <td>District</td>\n",
       "      <td>2917</td>\n",
       "      <td>1910635</td>\n",
       "    </tr>\n",
       "    <tr>\n",
       "      <th>1</th>\n",
       "      <td>1</td>\n",
       "      <td>Victor Smith</td>\n",
       "      <td>M</td>\n",
       "      <td>12th</td>\n",
       "      <td>Huang High School</td>\n",
       "      <td>94</td>\n",
       "      <td>61</td>\n",
       "      <td>0</td>\n",
       "      <td>District</td>\n",
       "      <td>2917</td>\n",
       "      <td>1910635</td>\n",
       "    </tr>\n",
       "    <tr>\n",
       "      <th>2</th>\n",
       "      <td>2</td>\n",
       "      <td>Kevin Rodriguez</td>\n",
       "      <td>M</td>\n",
       "      <td>12th</td>\n",
       "      <td>Huang High School</td>\n",
       "      <td>90</td>\n",
       "      <td>60</td>\n",
       "      <td>0</td>\n",
       "      <td>District</td>\n",
       "      <td>2917</td>\n",
       "      <td>1910635</td>\n",
       "    </tr>\n",
       "    <tr>\n",
       "      <th>3</th>\n",
       "      <td>3</td>\n",
       "      <td>Dr. Richard Scott</td>\n",
       "      <td>M</td>\n",
       "      <td>12th</td>\n",
       "      <td>Huang High School</td>\n",
       "      <td>67</td>\n",
       "      <td>58</td>\n",
       "      <td>0</td>\n",
       "      <td>District</td>\n",
       "      <td>2917</td>\n",
       "      <td>1910635</td>\n",
       "    </tr>\n",
       "    <tr>\n",
       "      <th>4</th>\n",
       "      <td>4</td>\n",
       "      <td>Bonnie Ray</td>\n",
       "      <td>F</td>\n",
       "      <td>9th</td>\n",
       "      <td>Huang High School</td>\n",
       "      <td>97</td>\n",
       "      <td>84</td>\n",
       "      <td>0</td>\n",
       "      <td>District</td>\n",
       "      <td>2917</td>\n",
       "      <td>1910635</td>\n",
       "    </tr>\n",
       "  </tbody>\n",
       "</table>\n",
       "</div>"
      ],
      "text/plain": [
       "   Student ID       student_name gender grade        school_name  \\\n",
       "0           0       Paul Bradley      M   9th  Huang High School   \n",
       "1           1       Victor Smith      M  12th  Huang High School   \n",
       "2           2    Kevin Rodriguez      M  12th  Huang High School   \n",
       "3           3  Dr. Richard Scott      M  12th  Huang High School   \n",
       "4           4         Bonnie Ray      F   9th  Huang High School   \n",
       "\n",
       "   reading_score  math_score  School ID      type  size   budget  \n",
       "0             66          79          0  District  2917  1910635  \n",
       "1             94          61          0  District  2917  1910635  \n",
       "2             90          60          0  District  2917  1910635  \n",
       "3             67          58          0  District  2917  1910635  \n",
       "4             97          84          0  District  2917  1910635  "
      ]
     },
     "execution_count": 1,
     "metadata": {},
     "output_type": "execute_result"
    }
   ],
   "source": [
    "# Dependencies and Setup\n",
    "import pandas as pd\n",
    "from pathlib import Path\n",
    "\n",
    "# File to Load \n",
    "school_data_to_load = Path(\"Resources/schools_complete.csv\")\n",
    "student_data_to_load = Path(\"Resources/students_complete.csv\")\n",
    "\n",
    "# Read School and Student Data File and store into Pandas DataFrames\n",
    "school_data = pd.read_csv(school_data_to_load)\n",
    "student_data = pd.read_csv(student_data_to_load)\n",
    "\n",
    "# Combine the data into a single dataset.  \n",
    "school_data_complete = pd.merge(student_data, school_data, how=\"left\", on=[\"school_name\", \"school_name\"])\n",
    "school_data_complete.head()"
   ]
  },
  {
   "cell_type": "markdown",
   "metadata": {},
   "source": [
    "## District Summary"
   ]
  },
  {
   "cell_type": "code",
   "execution_count": 2,
   "metadata": {},
   "outputs": [
    {
     "data": {
      "text/plain": [
       "15"
      ]
     },
     "execution_count": 2,
     "metadata": {},
     "output_type": "execute_result"
    }
   ],
   "source": [
    "# Calculate the total number of unique schools\n",
    "school_count = len(school_data_complete[\"school_name\"].unique())\n",
    "school_count"
   ]
  },
  {
   "cell_type": "code",
   "execution_count": 3,
   "metadata": {},
   "outputs": [
    {
     "data": {
      "text/plain": [
       "39170"
      ]
     },
     "execution_count": 3,
     "metadata": {},
     "output_type": "execute_result"
    }
   ],
   "source": [
    "# Calculate the total number of students\n",
    "student_count = school_data_complete[\"Student ID\"].count()\n",
    "\n",
    "student_count"
   ]
  },
  {
   "cell_type": "code",
   "execution_count": 4,
   "metadata": {},
   "outputs": [
    {
     "data": {
      "text/plain": [
       "24649428"
      ]
     },
     "execution_count": 4,
     "metadata": {},
     "output_type": "execute_result"
    }
   ],
   "source": [
    "# Calculate the total budget\n",
    "total_budget =school_data[\"budget\"].sum()\n",
    " \n",
    "total_budget"
   ]
  },
  {
   "cell_type": "code",
   "execution_count": 5,
   "metadata": {},
   "outputs": [
    {
     "data": {
      "text/plain": [
       "78.98537145774827"
      ]
     },
     "execution_count": 5,
     "metadata": {},
     "output_type": "execute_result"
    }
   ],
   "source": [
    "# Calculate the average (mean) math score\n",
    "average_math_score = school_data_complete[\"math_score\"].mean()\n",
    "average_math_score"
   ]
  },
  {
   "cell_type": "code",
   "execution_count": 6,
   "metadata": {},
   "outputs": [
    {
     "data": {
      "text/plain": [
       "81.87784018381414"
      ]
     },
     "execution_count": 6,
     "metadata": {},
     "output_type": "execute_result"
    }
   ],
   "source": [
    "# Calculate the average (mean) reading score\n",
    "average_reading_score = school_data_complete[\"reading_score\"].mean()\n",
    "average_reading_score"
   ]
  },
  {
   "cell_type": "code",
   "execution_count": 7,
   "metadata": {},
   "outputs": [
    {
     "data": {
      "text/plain": [
       "74.9808526933878"
      ]
     },
     "execution_count": 7,
     "metadata": {},
     "output_type": "execute_result"
    }
   ],
   "source": [
    "# Use the following to calculate the percentage of students who passed math (math scores greather than or equal to 70)\n",
    "passing_math_count = school_data_complete[(school_data_complete[\"math_score\"] >= 70)].count()[\"student_name\"]\n",
    "passing_math_percentage = passing_math_count / float(student_count) * 100\n",
    "passing_math_percentage"
   ]
  },
  {
   "cell_type": "code",
   "execution_count": 8,
   "metadata": {},
   "outputs": [],
   "source": [
    "# Calculate the percentage of students who passed reading (hint: look at how the math percentage was calculated)  \n",
    "passing_reading_count = school_data_complete[(school_data_complete[\"reading_score\"] >= 70)].count()[\"student_name\"]\n",
    "passing_reading_percentage = passing_reading_count / float(student_count) * 100"
   ]
  },
  {
   "cell_type": "code",
   "execution_count": 9,
   "metadata": {},
   "outputs": [
    {
     "data": {
      "text/plain": [
       "65.17232575950983"
      ]
     },
     "execution_count": 9,
     "metadata": {},
     "output_type": "execute_result"
    }
   ],
   "source": [
    "# Use the following to calculate the percentage of students that passed math and reading\n",
    "passing_math_reading_count = school_data_complete[\n",
    "    (school_data_complete[\"math_score\"] >= 70) & (school_data_complete[\"reading_score\"] >= 70)\n",
    "].count()[\"student_name\"]\n",
    "overall_passing_rate = passing_math_reading_count /  float(student_count) * 100\n",
    "overall_passing_rate"
   ]
  },
  {
   "cell_type": "code",
   "execution_count": 10,
   "metadata": {},
   "outputs": [
    {
     "data": {
      "text/html": [
       "<div>\n",
       "<style scoped>\n",
       "    .dataframe tbody tr th:only-of-type {\n",
       "        vertical-align: middle;\n",
       "    }\n",
       "\n",
       "    .dataframe tbody tr th {\n",
       "        vertical-align: top;\n",
       "    }\n",
       "\n",
       "    .dataframe thead th {\n",
       "        text-align: right;\n",
       "    }\n",
       "</style>\n",
       "<table border=\"1\" class=\"dataframe\">\n",
       "  <thead>\n",
       "    <tr style=\"text-align: right;\">\n",
       "      <th></th>\n",
       "      <th>Total Schools</th>\n",
       "      <th>Total Students</th>\n",
       "      <th>Total Budget</th>\n",
       "      <th>Average Math Score</th>\n",
       "      <th>Average Reading Score</th>\n",
       "      <th>% Passing Math</th>\n",
       "      <th>% Passing Reading</th>\n",
       "      <th>% Overall Passing</th>\n",
       "    </tr>\n",
       "  </thead>\n",
       "  <tbody>\n",
       "    <tr>\n",
       "      <th>0</th>\n",
       "      <td>15</td>\n",
       "      <td>39,170</td>\n",
       "      <td>$24,649,428.00</td>\n",
       "      <td>78.985371</td>\n",
       "      <td>81.87784</td>\n",
       "      <td>74.980853</td>\n",
       "      <td>85.805463</td>\n",
       "      <td>65.172326</td>\n",
       "    </tr>\n",
       "  </tbody>\n",
       "</table>\n",
       "</div>"
      ],
      "text/plain": [
       "   Total Schools Total Students    Total Budget  Average Math Score  \\\n",
       "0             15         39,170  $24,649,428.00           78.985371   \n",
       "\n",
       "   Average Reading Score  % Passing Math  % Passing Reading  % Overall Passing  \n",
       "0               81.87784       74.980853          85.805463          65.172326  "
      ]
     },
     "execution_count": 10,
     "metadata": {},
     "output_type": "execute_result"
    }
   ],
   "source": [
    "# Create a high-level snapshot of the district's key metrics in a DataFrame\n",
    "district_summary =  pd.DataFrame({\"Total Schools\": [school_count], \n",
    "                                 \"Total Students\": [student_count], \n",
    "                                 \"Total Budget\": [total_budget],\n",
    "                                 \"Average Math Score\": [average_math_score], \n",
    "                                 \"Average Reading Score\": [average_reading_score],\n",
    "                                 \"% Passing Math\": [passing_math_percentage],\n",
    "                                 \"% Passing Reading\": [passing_reading_percentage],\n",
    "                                 \"% Overall Passing\": [overall_passing_rate]})\n",
    "\n",
    "# Formatting\n",
    "district_summary[\"Total Students\"] = district_summary[\"Total Students\"].map(\"{:,}\".format)\n",
    "district_summary[\"Total Budget\"] = district_summary[\"Total Budget\"].map(\"${:,.2f}\".format)\n",
    "\n",
    "# Display the DataFrame\n",
    "district_summary"
   ]
  },
  {
   "cell_type": "markdown",
   "metadata": {},
   "source": [
    "## School Summary"
   ]
  },
  {
   "cell_type": "code",
   "execution_count": 11,
   "metadata": {},
   "outputs": [],
   "source": [
    "# Use the code provided to select all of the school types\n",
    "school_types = school_data.set_index([\"school_name\"])[\"type\"]\n"
   ]
  },
  {
   "cell_type": "code",
   "execution_count": 12,
   "metadata": {},
   "outputs": [],
   "source": [
    "# Calculate the total student count per school\n",
    "per_school_counts = school_data[\"school_name\"].value_counts()\n"
   ]
  },
  {
   "cell_type": "code",
   "execution_count": 13,
   "metadata": {},
   "outputs": [
    {
     "ename": "TypeError",
     "evalue": "agg function failed [how->mean,dtype->object]",
     "output_type": "error",
     "traceback": [
      "\u001b[1;31m---------------------------------------------------------------------------\u001b[0m",
      "\u001b[1;31mTypeError\u001b[0m                                 Traceback (most recent call last)",
      "File \u001b[1;32m~\\anaconda3\\Lib\\site-packages\\pandas\\core\\groupby\\groupby.py:1874\u001b[0m, in \u001b[0;36mGroupBy._agg_py_fallback\u001b[1;34m(self, how, values, ndim, alt)\u001b[0m\n\u001b[0;32m   1873\u001b[0m \u001b[38;5;28;01mtry\u001b[39;00m:\n\u001b[1;32m-> 1874\u001b[0m     res_values \u001b[38;5;241m=\u001b[39m \u001b[38;5;28mself\u001b[39m\u001b[38;5;241m.\u001b[39mgrouper\u001b[38;5;241m.\u001b[39magg_series(ser, alt, preserve_dtype\u001b[38;5;241m=\u001b[39m\u001b[38;5;28;01mTrue\u001b[39;00m)\n\u001b[0;32m   1875\u001b[0m \u001b[38;5;28;01mexcept\u001b[39;00m \u001b[38;5;167;01mException\u001b[39;00m \u001b[38;5;28;01mas\u001b[39;00m err:\n",
      "File \u001b[1;32m~\\anaconda3\\Lib\\site-packages\\pandas\\core\\groupby\\ops.py:849\u001b[0m, in \u001b[0;36mBaseGrouper.agg_series\u001b[1;34m(self, obj, func, preserve_dtype)\u001b[0m\n\u001b[0;32m    847\u001b[0m     preserve_dtype \u001b[38;5;241m=\u001b[39m \u001b[38;5;28;01mTrue\u001b[39;00m\n\u001b[1;32m--> 849\u001b[0m result \u001b[38;5;241m=\u001b[39m \u001b[38;5;28mself\u001b[39m\u001b[38;5;241m.\u001b[39m_aggregate_series_pure_python(obj, func)\n\u001b[0;32m    851\u001b[0m \u001b[38;5;28;01mif\u001b[39;00m \u001b[38;5;28mlen\u001b[39m(obj) \u001b[38;5;241m==\u001b[39m \u001b[38;5;241m0\u001b[39m \u001b[38;5;129;01mand\u001b[39;00m \u001b[38;5;28mlen\u001b[39m(result) \u001b[38;5;241m==\u001b[39m \u001b[38;5;241m0\u001b[39m \u001b[38;5;129;01mand\u001b[39;00m \u001b[38;5;28misinstance\u001b[39m(obj\u001b[38;5;241m.\u001b[39mdtype, ExtensionDtype):\n",
      "File \u001b[1;32m~\\anaconda3\\Lib\\site-packages\\pandas\\core\\groupby\\ops.py:877\u001b[0m, in \u001b[0;36mBaseGrouper._aggregate_series_pure_python\u001b[1;34m(self, obj, func)\u001b[0m\n\u001b[0;32m    876\u001b[0m \u001b[38;5;28;01mfor\u001b[39;00m i, group \u001b[38;5;129;01min\u001b[39;00m \u001b[38;5;28menumerate\u001b[39m(splitter):\n\u001b[1;32m--> 877\u001b[0m     res \u001b[38;5;241m=\u001b[39m func(group)\n\u001b[0;32m    878\u001b[0m     res \u001b[38;5;241m=\u001b[39m extract_result(res)\n",
      "File \u001b[1;32m~\\anaconda3\\Lib\\site-packages\\pandas\\core\\groupby\\groupby.py:2380\u001b[0m, in \u001b[0;36mGroupBy.mean.<locals>.<lambda>\u001b[1;34m(x)\u001b[0m\n\u001b[0;32m   2377\u001b[0m \u001b[38;5;28;01melse\u001b[39;00m:\n\u001b[0;32m   2378\u001b[0m     result \u001b[38;5;241m=\u001b[39m \u001b[38;5;28mself\u001b[39m\u001b[38;5;241m.\u001b[39m_cython_agg_general(\n\u001b[0;32m   2379\u001b[0m         \u001b[38;5;124m\"\u001b[39m\u001b[38;5;124mmean\u001b[39m\u001b[38;5;124m\"\u001b[39m,\n\u001b[1;32m-> 2380\u001b[0m         alt\u001b[38;5;241m=\u001b[39m\u001b[38;5;28;01mlambda\u001b[39;00m x: Series(x)\u001b[38;5;241m.\u001b[39mmean(numeric_only\u001b[38;5;241m=\u001b[39mnumeric_only),\n\u001b[0;32m   2381\u001b[0m         numeric_only\u001b[38;5;241m=\u001b[39mnumeric_only,\n\u001b[0;32m   2382\u001b[0m     )\n\u001b[0;32m   2383\u001b[0m     \u001b[38;5;28;01mreturn\u001b[39;00m result\u001b[38;5;241m.\u001b[39m__finalize__(\u001b[38;5;28mself\u001b[39m\u001b[38;5;241m.\u001b[39mobj, method\u001b[38;5;241m=\u001b[39m\u001b[38;5;124m\"\u001b[39m\u001b[38;5;124mgroupby\u001b[39m\u001b[38;5;124m\"\u001b[39m)\n",
      "File \u001b[1;32m~\\anaconda3\\Lib\\site-packages\\pandas\\core\\series.py:6225\u001b[0m, in \u001b[0;36mSeries.mean\u001b[1;34m(self, axis, skipna, numeric_only, **kwargs)\u001b[0m\n\u001b[0;32m   6217\u001b[0m \u001b[38;5;129m@doc\u001b[39m(make_doc(\u001b[38;5;124m\"\u001b[39m\u001b[38;5;124mmean\u001b[39m\u001b[38;5;124m\"\u001b[39m, ndim\u001b[38;5;241m=\u001b[39m\u001b[38;5;241m1\u001b[39m))\n\u001b[0;32m   6218\u001b[0m \u001b[38;5;28;01mdef\u001b[39;00m \u001b[38;5;21mmean\u001b[39m(\n\u001b[0;32m   6219\u001b[0m     \u001b[38;5;28mself\u001b[39m,\n\u001b[1;32m   (...)\u001b[0m\n\u001b[0;32m   6223\u001b[0m     \u001b[38;5;241m*\u001b[39m\u001b[38;5;241m*\u001b[39mkwargs,\n\u001b[0;32m   6224\u001b[0m ):\n\u001b[1;32m-> 6225\u001b[0m     \u001b[38;5;28;01mreturn\u001b[39;00m NDFrame\u001b[38;5;241m.\u001b[39mmean(\u001b[38;5;28mself\u001b[39m, axis, skipna, numeric_only, \u001b[38;5;241m*\u001b[39m\u001b[38;5;241m*\u001b[39mkwargs)\n",
      "File \u001b[1;32m~\\anaconda3\\Lib\\site-packages\\pandas\\core\\generic.py:11992\u001b[0m, in \u001b[0;36mNDFrame.mean\u001b[1;34m(self, axis, skipna, numeric_only, **kwargs)\u001b[0m\n\u001b[0;32m  11985\u001b[0m \u001b[38;5;28;01mdef\u001b[39;00m \u001b[38;5;21mmean\u001b[39m(\n\u001b[0;32m  11986\u001b[0m     \u001b[38;5;28mself\u001b[39m,\n\u001b[0;32m  11987\u001b[0m     axis: Axis \u001b[38;5;241m|\u001b[39m \u001b[38;5;28;01mNone\u001b[39;00m \u001b[38;5;241m=\u001b[39m \u001b[38;5;241m0\u001b[39m,\n\u001b[1;32m   (...)\u001b[0m\n\u001b[0;32m  11990\u001b[0m     \u001b[38;5;241m*\u001b[39m\u001b[38;5;241m*\u001b[39mkwargs,\n\u001b[0;32m  11991\u001b[0m ) \u001b[38;5;241m-\u001b[39m\u001b[38;5;241m>\u001b[39m Series \u001b[38;5;241m|\u001b[39m \u001b[38;5;28mfloat\u001b[39m:\n\u001b[1;32m> 11992\u001b[0m     \u001b[38;5;28;01mreturn\u001b[39;00m \u001b[38;5;28mself\u001b[39m\u001b[38;5;241m.\u001b[39m_stat_function(\n\u001b[0;32m  11993\u001b[0m         \u001b[38;5;124m\"\u001b[39m\u001b[38;5;124mmean\u001b[39m\u001b[38;5;124m\"\u001b[39m, nanops\u001b[38;5;241m.\u001b[39mnanmean, axis, skipna, numeric_only, \u001b[38;5;241m*\u001b[39m\u001b[38;5;241m*\u001b[39mkwargs\n\u001b[0;32m  11994\u001b[0m     )\n",
      "File \u001b[1;32m~\\anaconda3\\Lib\\site-packages\\pandas\\core\\generic.py:11949\u001b[0m, in \u001b[0;36mNDFrame._stat_function\u001b[1;34m(self, name, func, axis, skipna, numeric_only, **kwargs)\u001b[0m\n\u001b[0;32m  11947\u001b[0m validate_bool_kwarg(skipna, \u001b[38;5;124m\"\u001b[39m\u001b[38;5;124mskipna\u001b[39m\u001b[38;5;124m\"\u001b[39m, none_allowed\u001b[38;5;241m=\u001b[39m\u001b[38;5;28;01mFalse\u001b[39;00m)\n\u001b[1;32m> 11949\u001b[0m \u001b[38;5;28;01mreturn\u001b[39;00m \u001b[38;5;28mself\u001b[39m\u001b[38;5;241m.\u001b[39m_reduce(\n\u001b[0;32m  11950\u001b[0m     func, name\u001b[38;5;241m=\u001b[39mname, axis\u001b[38;5;241m=\u001b[39maxis, skipna\u001b[38;5;241m=\u001b[39mskipna, numeric_only\u001b[38;5;241m=\u001b[39mnumeric_only\n\u001b[0;32m  11951\u001b[0m )\n",
      "File \u001b[1;32m~\\anaconda3\\Lib\\site-packages\\pandas\\core\\series.py:6133\u001b[0m, in \u001b[0;36mSeries._reduce\u001b[1;34m(self, op, name, axis, skipna, numeric_only, filter_type, **kwds)\u001b[0m\n\u001b[0;32m   6129\u001b[0m     \u001b[38;5;28;01mraise\u001b[39;00m \u001b[38;5;167;01mTypeError\u001b[39;00m(\n\u001b[0;32m   6130\u001b[0m         \u001b[38;5;124mf\u001b[39m\u001b[38;5;124m\"\u001b[39m\u001b[38;5;124mSeries.\u001b[39m\u001b[38;5;132;01m{\u001b[39;00mname\u001b[38;5;132;01m}\u001b[39;00m\u001b[38;5;124m does not allow \u001b[39m\u001b[38;5;132;01m{\u001b[39;00mkwd_name\u001b[38;5;132;01m}\u001b[39;00m\u001b[38;5;124m=\u001b[39m\u001b[38;5;132;01m{\u001b[39;00mnumeric_only\u001b[38;5;132;01m}\u001b[39;00m\u001b[38;5;124m \u001b[39m\u001b[38;5;124m\"\u001b[39m\n\u001b[0;32m   6131\u001b[0m         \u001b[38;5;124m\"\u001b[39m\u001b[38;5;124mwith non-numeric dtypes.\u001b[39m\u001b[38;5;124m\"\u001b[39m\n\u001b[0;32m   6132\u001b[0m     )\n\u001b[1;32m-> 6133\u001b[0m \u001b[38;5;28;01mreturn\u001b[39;00m op(delegate, skipna\u001b[38;5;241m=\u001b[39mskipna, \u001b[38;5;241m*\u001b[39m\u001b[38;5;241m*\u001b[39mkwds)\n",
      "File \u001b[1;32m~\\anaconda3\\Lib\\site-packages\\pandas\\core\\nanops.py:147\u001b[0m, in \u001b[0;36mbottleneck_switch.__call__.<locals>.f\u001b[1;34m(values, axis, skipna, **kwds)\u001b[0m\n\u001b[0;32m    146\u001b[0m \u001b[38;5;28;01melse\u001b[39;00m:\n\u001b[1;32m--> 147\u001b[0m     result \u001b[38;5;241m=\u001b[39m alt(values, axis\u001b[38;5;241m=\u001b[39maxis, skipna\u001b[38;5;241m=\u001b[39mskipna, \u001b[38;5;241m*\u001b[39m\u001b[38;5;241m*\u001b[39mkwds)\n\u001b[0;32m    149\u001b[0m \u001b[38;5;28;01mreturn\u001b[39;00m result\n",
      "File \u001b[1;32m~\\anaconda3\\Lib\\site-packages\\pandas\\core\\nanops.py:404\u001b[0m, in \u001b[0;36m_datetimelike_compat.<locals>.new_func\u001b[1;34m(values, axis, skipna, mask, **kwargs)\u001b[0m\n\u001b[0;32m    402\u001b[0m     mask \u001b[38;5;241m=\u001b[39m isna(values)\n\u001b[1;32m--> 404\u001b[0m result \u001b[38;5;241m=\u001b[39m func(values, axis\u001b[38;5;241m=\u001b[39maxis, skipna\u001b[38;5;241m=\u001b[39mskipna, mask\u001b[38;5;241m=\u001b[39mmask, \u001b[38;5;241m*\u001b[39m\u001b[38;5;241m*\u001b[39mkwargs)\n\u001b[0;32m    406\u001b[0m \u001b[38;5;28;01mif\u001b[39;00m datetimelike:\n",
      "File \u001b[1;32m~\\anaconda3\\Lib\\site-packages\\pandas\\core\\nanops.py:720\u001b[0m, in \u001b[0;36mnanmean\u001b[1;34m(values, axis, skipna, mask)\u001b[0m\n\u001b[0;32m    719\u001b[0m the_sum \u001b[38;5;241m=\u001b[39m values\u001b[38;5;241m.\u001b[39msum(axis, dtype\u001b[38;5;241m=\u001b[39mdtype_sum)\n\u001b[1;32m--> 720\u001b[0m the_sum \u001b[38;5;241m=\u001b[39m _ensure_numeric(the_sum)\n\u001b[0;32m    722\u001b[0m \u001b[38;5;28;01mif\u001b[39;00m axis \u001b[38;5;129;01mis\u001b[39;00m \u001b[38;5;129;01mnot\u001b[39;00m \u001b[38;5;28;01mNone\u001b[39;00m \u001b[38;5;129;01mand\u001b[39;00m \u001b[38;5;28mgetattr\u001b[39m(the_sum, \u001b[38;5;124m\"\u001b[39m\u001b[38;5;124mndim\u001b[39m\u001b[38;5;124m\"\u001b[39m, \u001b[38;5;28;01mFalse\u001b[39;00m):\n",
      "File \u001b[1;32m~\\anaconda3\\Lib\\site-packages\\pandas\\core\\nanops.py:1693\u001b[0m, in \u001b[0;36m_ensure_numeric\u001b[1;34m(x)\u001b[0m\n\u001b[0;32m   1691\u001b[0m \u001b[38;5;28;01mif\u001b[39;00m \u001b[38;5;28misinstance\u001b[39m(x, \u001b[38;5;28mstr\u001b[39m):\n\u001b[0;32m   1692\u001b[0m     \u001b[38;5;66;03m# GH#44008, GH#36703 avoid casting e.g. strings to numeric\u001b[39;00m\n\u001b[1;32m-> 1693\u001b[0m     \u001b[38;5;28;01mraise\u001b[39;00m \u001b[38;5;167;01mTypeError\u001b[39;00m(\u001b[38;5;124mf\u001b[39m\u001b[38;5;124m\"\u001b[39m\u001b[38;5;124mCould not convert string \u001b[39m\u001b[38;5;124m'\u001b[39m\u001b[38;5;132;01m{\u001b[39;00mx\u001b[38;5;132;01m}\u001b[39;00m\u001b[38;5;124m'\u001b[39m\u001b[38;5;124m to numeric\u001b[39m\u001b[38;5;124m\"\u001b[39m)\n\u001b[0;32m   1694\u001b[0m \u001b[38;5;28;01mtry\u001b[39;00m:\n",
      "\u001b[1;31mTypeError\u001b[0m: Could not convert string 'Blake MartinKathryn KaneRichard HaasFrank MarshCharles Goodman Jr.James BurtonJames RogersWendy FoxLori LambertAaron MoyerAntonio FosterMichael DeanRobin VegaStephanie RobbinsJoseph WebsterDavid HarperMichaela MorganJeffrey ShermanZachary WilliamsDebra OwenDevin PhillipsKenneth JuarezJennifer MartinKatie IngramLaura CastilloJessica ButlerDaniel ThomasAlan HallRobin CastilloAshley BowmanGerald SmithJustin RobertsDavid HernandezMatthew SinghFrancisco HoffmanRichard DuranThomas GarciaJessica RussellBobby KempCaitlin BlakeJeffrey MurphyJeremiah WhiteCraig WestMichael HuynhAndrea CummingsWalter HernandezJohnny RogersJohn LopezElizabeth DavisLisa AguilarCarolyn RobinsonDanielle HarrisStacy CordovaDarren FieldsDaniel GonzalezRobert CruzChristopher BookerKristin JohnsonHayley MoralesKevin MartinMiss Erin Bradley DDSNatalie BennettKellie MatthewsAnna MyersTeresa VasquezTimothy HigginsMichael CaseyCraig HollowayAnthony FordGerald RodriguezJulie DavisCody LeeNicole RoseAnne MccallTrevor RiggsJordan RoseSteven RichardsonDiana CostaCathy ConnerChristopher HooperMichael SimonBarbara JacobsSavannah WallaceSamuel DelacruzDiana SosaSara MartinezMichelle ThomasGabriela HughesKathryn RosarioChristopher LongMr. Michael AllenErik LambertCasey JonesJoseph KellyDebra BrownEmma WatsonJacqueline SheaSara MurphyNatalie GrantCatherine BrownMartin CrawfordCourtney TorresMary MartinPeter MillerTaylor DayDavid CannonRoy HarrisonBarbara HarrisKelly Romero MDValerie MayGerald GrayDonald CraigApril FisherLisa LeeBradley HunterTaylor HortonKevin HuffmanErica GouldAnna Yang MDJohn WilliamsonBruce GarciaCynthia SchultzMichael RussoJohn White DVMJeffrey AndersenKylie MooreAnthony SpencerChristopher ConwayElizabeth FieldsBlake GainesDonald EdwardsMr. James BarnesJoseph AllenLarry PerezElizabeth SharpJason AndersonLinda JensenMr. Carlos WarnerAndrew CastanedaElizabeth SmithAngela WallKim FoleyCarol PetersonChristina MartinezAshley NguyenJames FerrellRobert WilliamsKayla RodriguezGwendolyn FosterJoshua BaldwinDeborah DavisRobert RodriguezDarius WilliamsApril VazquezEbony AlexanderBrian TrevinoThomas CookJoy ShahWilliam RiveraShawn MccartyEdward MurrayDana MitchellHector CrawfordRussell GonzalezJoel HamptonChristina JacksonDavid BirdCameron YangChristopher LawrenceHeidi WrightPhilip LongAndrew TaylorJeffrey RiveraLauren LeeMargaret CantrellAndrea GreenTabitha AdamsAustin JohnstonMichael GomezLinda BuchananDaniel CrossGuy ThomasSteven KingKaren AllenAnthony SmithDesiree GordonJillian GeorgeEric OsbornJesse ToddMalik WhiteScott ClarkJesus RodriguezAngela VelezLinda SinghJennifer FarleyWilliam PerrySarah WilliamsAmanda TaylorAshley GonzalezAnna NelsonParker WardShannon WilsonAmy StephensTerry SantanaHeather ReidLinda HarrisStanley HowardDeborah MeadowsJacob WilsonHeather MaloneTammy MooneyJustin BernardErin BartonJoseph OdonnellBrenda CaldwellNicolas MendozaMarcus KellyMichelle CampbellJames AlexanderCameron DavisMelvin SmithApril StevensAnthony TorresAnita FloresManuel MillerAllison BradshawWayne GuerreroMonique CarterTyler SilvaChristine LeeJay SmithRobert ReyesRichard MacdonaldLinda KimAmber NelsonJerry MartinJonathan TuckerShane HansenEmily MyersChelsea KempAnthony FosterMelanie KellerKaren ThompsonMichael HouseKerri GardnerJordan HawkinsMichael McfarlandRita GordonNicholas OrtizMelissa BowmanKim DeckerJerry BrownWilliam SimpsonAmanda DavisCory BradleyBrandon MedinaShaun ColemanHolly DavisPatricia WilliamsLarry ClineChase VillaDeborah HillDonald HarrisJeremy CharlesKaren MunozCynthia BrowningTyler GonzalezRyan HammondRobert RiversMichael HuffHarry BrownSamuel WoodChristian ValenciaKristen GreenCharles TaylorJacqueline RiveraRichard WallerLaura LindseyMiranda LaraAnthony PittmanMonica WilsonJoshua YoungAaron GonzalezMark AlvarezTimothy LongJustin BarnettJohn KhanPatricia IngramMatthew ThomasAriel HarrisonRyan NormanMargaret SantiagoPatrick WyattWilliam SmithWilliam AdamsRobert RomanDonald PayneHeather GouldJesus JacksonAimee AndersonRyan KimJacqueline SnowJennifer SchroederMelissa ReedApril Calderon MDOlivia CruzMichael WaltersErin HaleBenjamin GonzalezMichael AndersonJulie MortonBrett GarciaJoyce KnightPeggy BautistaChristopher CarterGina BarberSandra HartHeidi AshleyJames HarrisChristian MorenoKimberly PattersonLisa KnightDavid HarrisKari BartonDeborah MaciasLuis StewartCourtney PowersRichard MeyersAndrew SpenceSean WatkinsRobert MitchellNathan JonesWilliam DunlapAdam CruzCurtis HallPeter GonzalezChristy RobbinsLori HoltPatricia TuckerCarl FoxBarbara RobinsonJonathan YoungSteven WongKaren DavisJoanna SantosAshley CarterJohn ParkerAdam HerringSara BowenPatricia MillerJessica CraneJim StevensJordan MclaughlinAlison CaldwellChad FowlerKeith MartinezKenneth RobinsonKatherine WilsonVincent MartinTracey BensonEthan BeltranJeffrey GriffinNatasha EverettErin ParksStephen ThompsonJay KhanRobert AndersonChristopher FergusonDaniel KingWanda JohnsonDanny BanksBenjamin MurrayKristen SmithJohn CarrilloBradley ClaytonMark BrowningLogan BooneChristopher GrimesMrs. Kimberly Key DDSEric Park DDSAaron PearsonBrian MosleyPatricia MarshJennifer AndersonDanielle HoodMatthew CarterRandy GrantJohn SanchezStephanie ThomasLauren BradyLeonard HarrisCathy MercadoJuan YoungRobert GrayZachary WaltonRoberto SmithSheila LewisGloria VegaAlison NunezJennifer StevensPatrick Barker PhDSteven MccoyConnie PattersonAna BurnsMichael Singh Jr.Douglas SharpAlexander DicksonMary EstradaAaron EvansWilliam RamirezRebecca PrattChloe DownsKatherine CaseBrooke CarterNancy AlexanderJeremy MaxwellJames FlemingMakayla GutierrezBlake ButlerSteven JacksonAnna FrankTina JonesDale HernandezNicholas ReedJoshua FloresBianca BoyerWilliam ThompsonBrittany McmillanJanet GrantDeanna RichardsonJonathan LongMichelle PalmerKevin RojasLuis StevensJonathan Smith Jr.Samantha PattersonBrittany BensonAlfred McdowellMichael WrightChloe JohnsonMonique YangDouglas ChapmanMichael BallardTanya RichardsonBryan LynchRenee OconnorEmily PowellLouis WatersAdrian GrayMichelle HarrisMaria StewartWendy WilliamsNathan DominguezErin RamirezKristin KellerAmber FergusonShannon BrownJordan StewartJonathan WeberRay HarrisBrian DunnAdam CabreraJose MorrisonRyan PetersonBruce MendozaLori ZamoraRobert MendozaEmily MartinJamie MillerNathan AtkinsonKelly MartinezDesiree BlakeCassandra TaylorSara CooperRodney WilliamsCynthia EvansEthan RichardsonHunter FieldsCarlos RamirezTina MoranBeth RichardsAllen Morris Jr.Miranda MillerHannah CooperJordan MartinSarah RobertsPatricia HoBreanna MorrisSarah GarrettEmily TurnerAlyssa RodriguezJennifer HuynhSamuel DavenportRichard JohnsonJames HernandezTravis DavisAlyssa RileyKyle YoungMary GreenJoan ReedKevin LynnSara WeaverMegan MillerCarrie MooreSteven JonesWanda BaileyJeff HendersonMatthew WeberChristopher WilliamsRenee RodriguezEric CarsonJeffrey PayneKari CharlesMary CombsDiana CurtisKelly HarmonShannon WeaverPatty NelsonDonna JacksonAndrea JonesSarah JordanDale WhitakerKayla CummingsCatherine SingletonMichelle RamirezBradley LopezJacob JacksonXavier SantanaZachary BradyAnthony StoneKatherine DeanMorgan BaileyShawn BoydJesse DyerGeoffrey HallMatthew StewartWilliam TylerMichael LeachGregory ReynoldsJames CarpenterKristina GutierrezBeverly LeeLisa CamposMatthew LyonsDaniel MurrayMr. Lee RoseDavid MckenzieBrittney HenrySarah HunterMichael VasquezAaron RodriguezTyler DiazDr. Carl JamesWilliam MorrisWayne NewtonAmber GoodmanWilliam FrancisDanielle DyerMichael WagnerRebecca BrownAmanda RogersPatricia JonesVictor MartinDr. Kimberly BenjaminChristopher HerreraMichelle BeckerEdward TurnerMr. Lucas SmithDerek BoltonMr. Jason Grant DDSEthan BlairDawn KnightShelly MitchellJoseph NunezKeith AlvarezStephen PriceAmy KirkRicardo VazquezMelissa BrownJennifer ReynoldsMatthew WrightCourtney RobinsonMatthew HawkinsNicole SmithCaroline TranJuan WhiteLawrence RoweCassandra FowlerRachel DavisSarah HodgeAmber BlevinsAaron ThompsonJennifer MooreLaura MercadoAaron Solis Jr.Adam WalshJoanne ChandlerBenjamin BatesMichelle GrimesThomas MarshallAnna JohnsonDonna TurnerRyan Graham MDTerri MillerKimberly HerringTaylor DominguezLisa HarrisTamara WilliamsMichael RobinsonJoshua GomezNicole WilsonMelissa KellyAmy HarperJeffery BurnsChase RayJo OwensCassandra WilliamsRebecca SantiagoReginald EricksonMadison KlineBryan FischerTracy RodriguezAmanda StevensRobert RaymondYvonne WareJake MilesKaren HortonAmy DennisTimothy WarrenMary WilliamsChristopher MyersBenjamin WebsterJustin Morgan MDCindy MurphyAdrian DiazAndrew LeeAmanda KentDevin HoganAngela HerreraDylan JohnsonJack BerryVictoria LarsenFrank NewmanMegan MooreLisa MyersRenee SmithDonna TurnerHelen AdamsSydney VillarrealJoshua OdonnellKevin SmithKristine KellyMelanie CareyBrandi SmithSamuel ClarkEric SilvaSteven DavisJerry JuarezJohn SimmonsDeborah MooreMrs. Victoria CochranMelissa AndersonTimothy WeberAndrea AdamsDavid VelazquezMarissa BlevinsJason HallJessica FritzDr. Ryan RobertsJoseph HernandezWanda MaddoxGlenda SandersMatthew CooperArthur KochNicholas DanielRobert WhiteheadTamara TaylorDavid RussellSteven CampbellKatie Strickland DDSJerry RichardsJoel PittsKatie EvansEmma Perry MDPeter WilliamsThomas HerreraMr. Daniel Mckinney Jr.Chad SharpSusan ReidCarl PerezMr. Paul FarmerRobert AyalaSarah ClarkCarl OconnorKimberly HarrisLauren TurnerDavid RobinsonRussell DurhamJacob DavisJennifer CarlsonKaren RobinsonLaura HarrisJamie MendozaJorge McdonaldDustin FordStephanie Howard MDAlyssa WilliamsonSamuel KnightErika ThompsonLaurie CollinsDenise DavidPedro LongKyle ButlerDanielle HudsonKaren ProctorTiffany WilsonMark GarciaMichael WatsonJohn JohnsonKristopher NunezVictor ReyesKatie WilcoxJustin WilsonAnthony JonesPaul SchroederKaren GreeneMichael MercerJames SmithChristopher KnightGregory HerringAngela WhiteJay FischerDaniel BarrettDaniel JohnsonTravis ComptonSeth ShafferSteven BallStephanie GilesJamie RodriguezJacob LawrenceStacy CobbChristina MillsDaniel RowlandJonathon WillisAdam RodriguezLaura CarlsonDominique LloydDanielle BarnesDanielle HansenTeresa ContrerasAlicia CastanedaDennis GonzalesJoyce RobertsKaitlin WilsonJon GriffinJoseph ForbesRobert BatesAngela RussellDustin MarquezKyle FowlerSean WellsAmanda ShepherdDeanna CombsMichelle WilsonChristy ScottGeorge PriceMandy Mcconnell DDSDanielle HayesTina BowenDylan EdwardsJonathan ContrerasAnthony YoungEric ChoiLatasha CummingsTami DixonKrystal ReynoldsLisa LangErik BushCarl MartinezMrs. Angelica HallBrandon PopeChristopher RossAmanda RodriguezDonald GrayTanya RyanCrystal HunterMarco WilliamsErica CollinsLinda AdkinsStephen BarkerDavid SmithTravis LoweryJessica BryanBrian LewisAdam HoltRaymond WoodKaren GreenPenny NguyenWanda SpencerLori LeeLori SmithBryan MooreAmanda UnderwoodJaclyn CobbKiara BrewerDavid FloresBob JohnsonVeronica DiazStephanie RobinsonShannon MarshallMichelle EatonHaley DunlapLuis AllenEdwin WatkinsMegan MontgomeryNicholas CollierAndrew McdowellBarbara LarsenMelissa GrantSteven HartmanSharon TaylorCassandra BrownMegan VillaDennis BooneMichael DavisDavid SteeleAlex ConnerDanielle HurleyLisa MillerSandra HubbardDaniel NguyenJames CalhounRyan GreenErin GoodmanJames BurgessMaria RomanHayley HallVeronica GomezAnthony DouglasWilliam SwansonWilliam CrossAndrew WattsMicheal MartinLauren WestJordan EvansJohn BrownDouglas RodriguezCarolyn SteeleChristy GutierrezAllen DiazKaren BrownTonya SaundersErica LeeSarah AnthonyDavid ThomasJasmine GonzalezCrystal EdwardsDaniel AbbottPamela WalkerNicholas SmithJennifer MatthewsMichael SolisBruce HopkinsMichele HansonCathy RamosMackenzie MillerShane GreeneApril MorganChris RobertsKatherine TuckerJustin HillBetty GatesAudrey AdamsJimmy MillerSarah AllenMary ArmstrongChristine TaylorDaniel McclureKathleen LewisJessica BauerChristopher Petty Jr.Stephanie RobertsJennifer GarciaDennis HamptonJames RodgersMatthew RiveraNicholas MarshallIan TerryJacqueline EwingJoshua CantrellJacob ThomasJessica PerezCindy KnightNatalie JohnstonJesse WilliamsMarilyn CervantesTaylor ThompsonRebecca PhillipsJohn FosterFelicia MatthewsAngel LaraBrandi LittleRobert LawrenceKelly BeckerKayla AyersKatherine PhillipsJoshua MorganAlejandro GarnerSierra JohnsonTravis HeathLaura BaileyTaylor CookSherry BeckerAmanda HillMelanie AndersonDaniel CrossMatthew QuinnTodd BradshawChristopher BrownKenneth GarciaMaria BrockAdam PattonEdward MillsJohn BeckerJoshua MorrisBryan CookTimothy ParrishMatthew MezaPatricia RiveraJoyce RamirezKari BarrettChristopher RiveraRobert DixonMelissa MccoyErin JonesDavid RobertsCynthia JohnstonAshley NelsonAmanda JohnsonVanessa MorganJesse HernandezMichelle MooreJames PhamPenny DeckerBobby WilliamsTimothy ConnerDavid BarnesMarie NorrisLindsay CamposMargaret HortonWendy HernandezTimothy MckenzieNancy MendezAngela HowardRonnie BarrettAllen OnealAngel MortonGerald LangJessica HendrixMegan Shaw DDSWilliam HudsonRenee BishopBarbara JimenezDerek SilvaDarlene LeeMichael ValenzuelaAshley PerezEdward MartinKristina CummingsRoger LevyHarold JohnstonKatie LeeDonna ReedJames MorsePaul MooreWanda PhillipsJoshua DorseyElizabeth RamirezLucas JamesGary WellsJoshua WilsonMegan JonesPeter FlemingTheresa ShieldsMark LeeErica BakerSamantha FosterNancy RosalesVirginia BallardShelley PageAaron AtkinsonElizabeth CobbBetty BrownAngel FosterRhonda MillerBianca Huynh MDDaniel PhillipsThomas JohnsonVanessa ScottNicole LopezJoseph McdanielMiss Christina BurnsAdam LambMonica RobersonKathleen GonzalezDouglas RodriguezSarah OrtizRichard JacksonRebecca WilliamsDeanna MendozaCaroline ZimmermanJay ClineEvelyn RiveraStephanie ColeRyan CarlsonAmanda CohenAbigail SmithMelissa Dunn MDDevon NicholsLauren KochKatherine JohnsonWilliam FrenchVictoria WallJoseph LopezCalvin JonesDeborah LeeScott MooreThomas MeyerStacey MillerJared WashingtonFrederick HaleyElizabeth DeleonJames JacksonDavid ReedMelissa SandovalJack CochranChristine RamirezRichard LopezMr. Derek WilsonKristen WarrenMr. Angel JohnsonChad EvansNicole ChenMrs. Nicole DuranDonald MyersNicole JohnsonDenise MarshallMichael HowardStephen ThompsonWendy RiveraTyler BallWilliam PinedaSamuel BrownTracy DanielsRebecca StoutJohn LeonVincent SmithAaron ClarkDerek DiazJohn ColemanTravis WebbDesiree MercadoShane PerezJessica CunninghamJasmine CampbellMason RaymondVincent EllisJohn PaulJoseph McgeeAndrew RobinsonKatelyn DayDavid DeckerCurtis FigueroaAmy BeckerTina GarciaHeather WhiteKenneth HughesKimberly FrazierDavid MaysDonna PierceMichael Garcia Jr.Jessica WeberChristopher BuckBrian ButlerOscar EllisLori OrtizAnthony MercerJoseph HughesApril HallGina PriceJoseph HooperKenneth StewartTimothy BrownStacey BeckHaley PowersWilliam LaneMrs. Bethany Fisher PhDBrian CannonJessica MatthewsBrad TylerMr. Daniel Nguyen DDSChristopher KelleyHeather WeaverSteven FullerWanda Moore MDBecky ShieldsLisa OlsonJuan WallTaylor GambleLoretta DawsonChristian HaleyErica SanfordRebecca WoodwardCharles Short IIRobert FitzgeraldJocelyn EricksonAndrew SimpsonMichael JenkinsChristopher ReidNorma MurphySteven BaileyPamela WilliamsRichard HernandezNancy McclureAntonio RodriguezPaul ClarkeEric ArnoldElizabeth MeyerRachel HernandezKaitlin BarrettAnthony PatelEmily RowlandMarc AndrewsApril GillespieRichard KellyJohn SnyderRoy DeckerKimberly Jacobson PhDJames SingletonMatthew JonesKenneth MartinezJennifer WestMartin WellsCarolyn GeorgeCarolyn GibsonKevin BrowningJoshua AndrewsStephen ZunigaJennifer ConleyChristine IbarraMelissa BrownJoyce AllenMichael PerezNorman BurnsAmanda MaddenJames MarshallJay GrayBrittney BaileyWilliam SimpsonSteven JohnsonTaylor CohenTamara GriffithLisa MahoneyCorey AllenVictoria BrowningAlejandro CarterAllison GardnerEmily CollierBrandy RogersStacy TorresFrank JonesKristine SpencerJacqueline AtkinsonDebbie Brown DVMAmy ShawTaylor MedinaLuke PetersMelissa HickmanScott BurkeJoshua ScottMr. Michael Dyer MDLuis BestChristian KellyDavid WilsonLisa RichardsJeffrey SmithDana CruzAngela FordDouglas GrahamNicholas LewisNathan MontgomeryJustin HenryDebra HortonRobert WeberMolly AndersonEdward GlassKendra BennettMonique MarshallJordan StevensTamara MooreJonathan HarperKevin GutierrezJustin LopezKim StewartAdriana SmithHeather WilliamsJoshua Kim DDSDaniel Fitzpatrick PhDJacob AguilarCarol JohnsonJerry ToddShawn BrownEllen WallerJulie LunaJennifer SanchezJordan Waller MDMr. Jesse BellDiana JohnsonAngela HouseEmily WarrenAlexandra HendricksMario Myers MDCameron GrayMakayla HooperJulie MoralesRicardo McguireTerry Adams DDSJulie ParkerValerie AustinJason JohnsonDavid GreeneLisa JonesMonica SmithEric EdwardsMichael BurnettDiane HerreraAngela LopezMarissa NelsonMichelle WareAndrew BrownDerek MayLaura JonesRebecca JohnsonCrystal MooreDaniel SanchezPaul WoodShawn OwensAllison RayMichael KaufmanTimothy JimenezVictoria CaldwellMiguel JohnsonDouglas HardySergio GrahamKaitlyn ChambersAdam HobbsBradley DavisHannah ShawCarlos YoungSara WilsonLindsay LinJanice RobertsRobert HernandezPhillip WashingtonJoshua WhiteTiffany ReedAlexis MatthewsAndrew ThomasDerek Barker Jr.Heidi HarrisJeremy WoodAndrew JimenezSteven DicksonGary WestJennifer ButlerJohn SmithMrs. Renee GordonMichelle MurrayMark CrawfordTara CaldwellJoshua ButlerJennifer StoneKevin StoneRobert WallaceDavid KirbyTina WalkerJessica NguyenDiana WilliamsMr. Vincent KingJoshua LopezDr. Oscar Lawson MDKevin MaxwellSheila YoungWendy TaylorAmanda ChandlerHeather WatsonAllen OrrAlexander MathewsIsaac PerkinsJorge GarciaStephen NelsonChristian HunterVanessa TravisHeather BarnesLindsey OneillLisa Zimmerman DVMPhillip WattsRobert RossKristen LunaDawn MartinezSavannah RamseyLisa CarneyWilliam SalasHolly MooreAlicia CastroAmanda McguireJason CarterMr. Phillip VaughanNicole BurkeJeffrey GrayAmanda KerrMatthew WrightRyan SmithRebecca WilliamsCharles WebsterDaniel RileyBrett EricksonLisa DorseyHeidi FarrellChristina AyalaTaylor MeyerJames GarciaConnor CobbCrystal BuchananDiana KerrSherri PadillaAdriana GravesJustin PowellChad BoyerKerry KingGlenn PriceVanessa TuckerJason PerezTanya RobinsonHolly DavisTyler HarperJennifer LewisFred OwensJames HolmesKimberly GarrisonRobert GreerAngela GlassJoseph Dyer MDAimee EscobarBrian OlsonChristopher JenkinsBarry HallBarbara VillegasSean WardMargaret LeeDavid DiazBrian MccoyChristina BaldwinElaine DudleyJohn GordonDennis JohnsonRenee MonroeRobert MayoPeter ThompsonTaylor PearsonElizabeth ThompsonTiffany ChristianNancy ThomasKristen MitchellTerry ClarkSamantha MartinBarbara BrownJessica FarmerCynthia BennettElizabeth AndrewsCarlos BrownMiguel MaciasKelly HernandezJeanette SmithJake ThomasTraci HarrisonAlejandra WilliamsonDavid KeithAshley JonesMary GriffinVicki SmithMatthew GrantAnnette RossMargaret BlackMatthew HendersonMichelle MossBarbara DanielCarolyn MillerErica MillerDouglas RyanHeather LamMark MclaughlinJamie GibsonMatthew RiggsElizabeth ColeBryan RamseyBetty IrwinKristen ValenciaKimberly HoffmanVirginia RamirezAndrew OwensMadison OlsonKimberly PattonDr. Austin ColeStephen RobertsFrederick LeeHelen GayCourtney ThompsonGregory EllisDiana ChapmanHolly WoodsKenneth DiazKenneth HartmanBrian WalkerMichael DavisBradley WhiteKatherine RowlandAllison ThompsonRachel LopezCassandra BaldwinJohn LynchPatrick WilliamsJose ButlerAndrew BaileyJohn LoveCarl CamposMrs. Amanda MartinMichael MooreMelissa RoachMarie SextonJohn VaughnAaron WashingtonRebecca ChungJeanette CarlsonGregory GuerreroKimberly CortezDaniel HartJessica SmithChristine HayesMackenzie MasonJoseph GilbertSusan AdamsDavid HarveyJohn Thomas MDChristina ButlerBrian RobinsonNicole ThomasBrittany CookKathy RivasTina SalazarCrystal SimsPamela FieldsJacob VegaJennifer CannonMark TaylorSheila BrownHeidi KellyJeffrey GalvanJoann RodriguezGina VegaRegina ParkerPatricia MaloneTracy ChapmanAnn CampbellSusan EvansSierra Dominguez MDEdward SmithBradley MartinGary JacksonShawn PetersonMonica KingJames ByrdJared KelleyBryan GuerraChristopher WilsonMrs. Katie Weber MDSarah CallahanJulie ElliottSonia AshleyKeith GonzalezJoshua SmithAmy LeeMolly JacobsHeather StokesMartha BestMs. Nancy GreenJose LewisCynthia WolfeWilliam RobertsDavid TaylorYolanda MullinsRebecca HansenCindy JacksonJessica CarneyJoshua SanchezManuel ArellanoRegina GarciaCourtney GibsonScott StevensAaron ProctorLindsey PetersonBrandon DelacruzLuis BrownTheresa SummersKarina LeeMonica BatesPeter RileyDaniel WhiteAshley CarlsonAudrey ReevesChristopher OneillBrenda RomeroJerry LeeJulie MitchellDaniel KleinJessica NicholsonShawn GilmoreKatherine EdwardsElizabeth ShermanWilliam BrewerPhyllis BentonPaul PearsonThomas AndrewsLauren LoganWilliam KingAmanda WalkerAmanda McdanielRebecca WhiteBrianna HarrisPatricia GloverWilliam SerranoMichelle FordJordan VasquezMelissa HoganKevin WilliamsMrs. Pamela GarciaSara SchmidtPatrick BurkeJoy SanchezAmanda CarsonAmanda DavisAmy TorresAngela RojasBailey KingBeth SullivanMarie StoutJodi RobertsonCharles AguirreEmily AllenJason WatsonMadison RichardsDeborah KirkMary GloverDanielle Stanton MDConnie BushThomas ThompsonDebbie BurkeErica ShawAntonio ShepherdPhilip RobinsonJennifer SwansonMiguel SmithNicholas HardyJenna GarciaDaniel LittleJason StephensDarlene ValenciaCharles TorresRebecca LewisStacey FisherAmber HernandezElizabeth Logan DDSRobert HuberCourtney Wall DVMFrank HoffmanTravis JimenezKevin ColemanJennifer StokesBrenda StewartAndrea HallMark BrownJohn BakerKathleen ValdezKarina OconnorJessica WardRebecca GonzalesKimberly MolinaMike McdanielDanny McdonaldJordan SolisMarcia CaseyAlexa BatesRobert JimenezPamela HughesMary GarciaJohn MartinPamela RitterWilliam LindseyAlex ThompsonTimothy ScottDana GuzmanRebecca LivingstonEmily LittleBarbara CarrConnie JohnsonStephen LawrenceTracey OchoaAriana PerezKaren WhiteBridget BurkeJason WhiteBrett PalmerJames CoxBradley NealMichelle PerezBilly TaylorJessica CampbellVeronica FisherPenny EvansMichelle WashingtonRaymond VargasJeffrey GreenAndrew JensenJoseph SandersRhonda MahoneyVanessa ClarkKaren Harris PhDTroy WallerDaniel CastanedaNicole BauerMolly FosterWendy VincentLisa WatersMichael MontgomeryJeffery PerezAlejandro BarnettJoel WilliamsEric HamptonAlexandria FreemanElaine JamesPatricia RogersAnthony WallsMarie BaldwinLeslie SolisBrianna WhiteAlyssa JenningsEvelyn JohnsonJacqueline CarterBeverly DanielsSandy WestMrs. Amanda HerringThomas VillaWilliam RomeroBrandon CollinsTony NelsonLaurie FergusonKelly WileyBethany MeyerChelsea DanielsDustin PetersenJenna PalmerChristopher WilkersonDr. David MillerNancy HallDerek GravesOlivia ScottJulie EdwardsMario MartinezKaren VanceDuane WiseCorey BenjaminPaula HenryNatalie ClarkAdrienne ChavezCharles PerezBrian FordJacob BuchananCourtney SandovalKatherine GainesKyle DeanRichard NguyenTonya WalshNatasha DavisShannon SimonWendy DavisJoshua LoveRyan MaciasMichele GarciaTracy KaiserSteven SheppardMichael AdamsMr. Eric AndersonKirsten RiceMrs. Sheena Bailey DVMJoan CaldwellMelody HahnMaria GreenJoyce MorganNicole WhiteAndrew HerreraBridget GrahamBrian ChangAngie GutierrezTammie FoxAlicia ButlerAmanda AdamsJames BrownAnthony HolmesJacqueline WilliamsJulie BrownScott GibsonAnthony ReevesDiane VargasKathryn JonesEmily MartinStephanie WattsMichele OnealRobert CrawfordMichelle CollinsJeremy HodgeSavannah GonzalezZachary Garrett IIIKendra DavisAbigail CaseyKelly EllisonMargaret GomezDavid JohnsonSharon MonroeKristy PopeThomas Harrison Jr.Tammy LeeAustin LeeJohn WeeksJoel MccarthyJonathan JohnsonMadison BurnsChristopher NormanKelly HughesWendy HillManuel MezaThomas FosterGabriela JohnsonAllen GarciaCynthia MooreTaylor ReedRodney FlemingNathan PrattTina GilbertStephen RobertsonAmanda MartinKathryn EatonMark JacksonRachel HallJohn HernandezKimberly SullivanDawn McfarlandDonna EsparzaTerrance ManningKristy JacksonBenjamin JohnsonJeff ThompsonWilliam SmithArthur HallRuth AnthonyAnthony MercerJonathan HendersonJohn JohnsonCynthia GonzalezJoann PattonErin WilsonDavid MayStephanie SmithTeresa ReeseBarbara WhiteMichael GrimesDenise YoungLaura NobleShane SmithKevin QuinnGary HollandDavid StoneTina EvansClaudia GoodwinGerald RobbinsMegan Bennett DVMSeth GreenJacqueline LivingstonDavid MuellerAmy MooreEmily BeltranJennifer RobertsAmanda MorganMr. Steven HarrisonCarolyn AriasJennifer StoneAmy Mcintosh MDMargaret KimChristina KhanDr. Frank AndersonTracy PerezEthan JonesBecky JonesKathleen RamirezCatherine WilsonSandra DuncanJeffrey RivasJordan CruzWalter GarnerCindy CruzTina RodriguezDavid RiveraBrian SilvaAntonio McdonaldJoseph MurphyMaria GallegosMatthew GibsonJeffrey YoungAntonio HernandezDawn HernandezDale ShawRachel DavisThomas LopezLaura BrightMichael PatelBreanna MercerWesley CraigAmy HornJulie DavisMichelle LutzDavid PayneCourtney SullivanHolly FordRuth ArmstrongJennifer JamesAustin DavisDrew PerezRachael HortonJacob DodsonAshley TorresRyan MaldonadoMichele RodriguezEdward NashHeather McdanielDaniel HaleVickie SnyderShelby CainMadison AdkinsDaniel CherryAmanda FieldsDebbie DavenportMichael WilsonHeather VargasWilliam ParkChristopher PattersonJamie Dawson MDMr. Andrew Mitchell VDr. Travis RichmondElizabeth JosephVernon RossPaul WilliamsRachel LopezMarie HernandezMichael KimKevin BarnettMary WilliamsKristen MccannAnna ReeseJustin WarrenMrs. Amy CainDarren SanchezShannon CruzHannah SullivanNancy KaneSamantha McbrideJeremy GrahamDanielle SweeneyPaul HallJennifer DavisBrett OdonnellCharlotte HowardRodney NicholsonCharles MaciasNathan BrockVictor CoxCassidy MooreHeidi BurnsWilliam SchmidtBrittney HughesRonald HickmanAndrew JonesRichard JohnsonGlenn OsborneAnthony CervantesMallory HowardKendra YangSarah MartinJames TurnerBridget GregoryJohn ThomasThomas LewisSavannah ChavezCourtney VaughnBryan JenkinsNicholas LawrenceJessica HillPhillip BishopHeather GonzalezSusan RichmondLeslie FloydCharlene PetersAndrea BartonJustin GutierrezChristopher MillerMichelle FordErin PhillipsGeorge KaufmanLaura MartinezMatthew ByrdChristine AllenJohn GuerraHeather HallJames SpearsJessica SmithMatthew HoKaren AustinMichael MillerKatrina AdkinsMitchell GreeneAaron Davis Jr.Gene TorresNicole MitchellAaron BaileyDakota GreenStacey McgeePatty RyanLinda GravesAndrea AustinMargaret AndersonAmanda TannerLee JohnsonRichard DeckerTammy ShepardGabriel HallDarren BrooksSarah JonesHeather SmithJames StoneMatthew TaylorMadeline ClarkBarbara McconnellCynthia GreenGavin JohnsonChristopher PhillipsWayne HensleyMegan OlsonCody WilliamsAmy FriedmanTiffany SmithVictor SmithJordan AndersonMichael GreeneMisty HartCindy JoyceAmy ParkerAdam KellerDawn HillCesar ThomasBrianna WolfeKelly ColemanPamela PerkinsHenry LyonsDavid PerezEric KnappJustin WilliamsChristopher HillMallory AndersonJonathan GuzmanEvan HuangChristopher MezaMeredith ThomasJohn ClarkAmanda FrancisKevin TaylorMark McdonaldTodd AndrewsBrian ChristianBrian CastilloCrystal ParkerLuis KingKristine HuntTaylor HenryAnne HansenTina ButlerCody SchaeferCharles KentLinda SanchezChristopher WarrenThomas Burgess MDThomas SmithWesley NormanJoseph HodgesSusan VillaDaniel MillsThomas ThompsonAmanda Hale DVMPhilip JacobsTanya MartinezGregory SchneiderAndrea DavisOlivia GriffinMackenzie PatrickMichael BakerClinton NguyenJoseph LarsonRussell ThompsonPatricia SullivanElizabeth SheltonMegan FlemingSteven WardAmanda HardyRichard BerryDebbie BlackwellLaura JenkinsJordan AndersonLindsay HarrisShawn SmithAmanda IbarraMark ParkerAmanda EdwardsSarah BergMichael WeeksKara PottsDerek Cooke MDJoanna NewtonShawn SmithSusan GutierrezJonathan KrauseShannon HayesDr. Daniel BowmanMichael PetersMatthew KingTammy JohnsonManuel OlsonMark HickmanNancy HillDr. Jonathan PalmerThomas GlennMichael PerryKaitlin PrattLinda HerreraVanessa NavarroJonathan MartinezChristine JohnsonTanya FisherRichard SmithJose EdwardsAmy WheelerAngelica HumphreyKevin CarpenterDebra FranklinAshley JohnsonBrittany CarlsonSamuel PerkinsNicholas MooreErica ThompsonMark SnyderJustin JohnstonMichael KleinBrian ClementsMichael WalkerMichelle CollinsApril RodriguezFelicia WrightAmber ThompsonJessica KirkMelissa BanksAdam PayneClaudia PhamEmily WilliamsLori Mitchell DDSRaymond MaysMr. Richard ArmstrongAmy SmithThomas MayMichele LoveTracy RussellRichard DayChristopher WalkerJennifer HowardPamela KimMelissa PierceAshley SmithRobert MorenoRebecca WalkerJennifer MackDr. Timothy JohnsonRobert HillKirsten ClarkNancy EnglishJames SmithFrank DiazNicole PettyClinton WallaceMiranda PetersonTina HillEvan WarrenSamantha BensonAnne GreenJasmine RussellJames EvansBenjamin DavisKayla AlexanderZachary SchultzTony HuntMrs. Pam Lewis DVMKelsey HarrisRobert MitchellKelly HopkinsMisty JacobsAmanda ReidAmanda GrahamAlexander FreemanAmy Gutierrez DDSDawn RamirezDalton MurphyKenneth WardMelody ScottThomas TaylorThomas DavisAshley BarryElizabeth WoodMichael ColemanAngela WilkinsZachary FerrellJessica VasquezTodd SimmonsSpencer ThomasAngel MartinDr. Christina FloresDavid LunaJoann KaneLeonard CoxAnthony ClementsJohnny JohnsonPeter TuckerBrian Bailey Jr.Andrew ButlerLarry McguireKaren HansonElizabeth CastilloCynthia NelsonPeter MillerDevon HartJorge MontoyaErica JohnsonAaron GarciaAngela DaltonPatrick WhitneyRyan MooreMargaret QuinnAmber MooreNicole HensleyTammy LopezAshley HayesMatthew AguilarDenise CarterDwayne MillerJared BrownAmber VillanuevaLisa CarterJacqueline FrancoAmy CohenCarlos CoxGlenda CoxMichael LeeBryan AndersonStephanie AriasLauren CameronJeffrey PriceJenna GreerCameron CordovaChristina BerryRoger HarrisSamantha LopezDaniel HarveyJeffrey WilsonTina CarterMichael ArmstrongPamela ManningHayley AllenCraig SchultzKerry TaylorJeremy PayneAlexander WrightRachel DayNathan ArroyoChris HartmanTanner RodriguezJeffrey HopkinsRussell BanksJoshua RamirezAshley KellyJay KirkJacqueline RayLisa AndersonKristi KingAlicia SchwartzNicole TaylorAmber CoxJason DavisJames DelgadoAnna CamachoAnna MendozaJeffery FrancisBruce MorenoAmber RhodesNathan DayBrent VillaSteven StricklandTeresa PotterCarla WilsonJessica WrightNathaniel PhillipsPamela JonesWilliam BlackAshley TerryKimberly BerryJeffery PowellDaniel SandersMichael GarnerMaria WilliamsTracy BeckDylan JohnsonNathan CannonBrenda RayPenny MurrayChelsea LewisCrystal HernandezAdam KellerNicholas RamosTracy LewisAlexander PerkinsMichael MunozEdward SchmidtRyan ThompsonJennifer WashingtonNicole FarmerCrystal BuchananAudrey WellsJavier BarnettAudrey MartinBarbara WoodDenise EstradaAndrea ThompsonJason CoxRoger TuckerMrs. Carla HumphreySarah RobinsonRebecca JordanDiana ChaseWilliam Burch MDHeidi MartinJanet ChanJennifer GarciaKara DiazJeffrey RobbinsTheresa NicholsMatthew RayElizabeth SandersVeronica JohnsonDevon WhiteHelen MooreJames LeeMichelle HesterAmy HansenBrent HodgesMelissa BondDiana ShepardJacqueline GarciaJoshua BrownWillie TurnerMadison PowellJessica JacksonKent ShermanStephen DunlapEddie AlvarezJoshua VaughnYvonne Robinson PhDJennifer RamosMelissa LutzTracy MorrisonCrystal JohnsonApril TrujilloTyler LawrenceMelissa JohnsonLisa SanchezAlexander DickersonChris GreenDiana LaneJon ValdezAaron CruzMelissa DavisDeborah NelsonDavid HutchinsonKaitlin PriceAndre SimpsonVictoria StoutKevin GoodwinAaron QuinnChristine MillerAbigail PerezBrian SmithAlicia WrightAnnette WashingtonBrian HoweDonna RoseAndrew WintersChristine AndersonZachary DanielJessica HartChris McmillanDaniel PittsErin HickmanDonald MaloneEric SpencerPatricia RussellLauren KlineGregory AllisonLaura HenrySamantha MoodySarah KimJose ParkerMichael SmithJerry PotterEvan LucasThomas JohnsonAngela SmallAlexandra WilsonMathew WileyVanessa StevensonKathleen BeltranMelissa GonzalezMartha Mcdonald DVMKevin JohnsonDr. Mary SchwartzAnthony MeadowsKari GomezMichael MillerWilliam DavisMelissa DavisJose SchroederErnest PowellJorge KennedyMisty SimmonsBianca ParkTaylor Green DDSKevin HarrisSophia MasseyDavid FergusonBrenda MorseJason HernandezCharles LangMariah HoltBrent HallRussell PetersNancy MartinStacey ThompsonAndrew RyanScott AndersonAllen ZamoraLauren MillerMallory ChenChristopher Simmons PhDErika BurchChad BullockRobert MorrowSteven HendersonJimmy StevensAustin ChavezThomas WigginsRuth WalkerChristopher SmithJustin WilsonLisa MurrayJeremy WattsCarol DiazJustin ChenJeffrey ShannonDavid MartinezKaitlyn HansenCrystal PetersJulie HernandezRenee BuckleyMatthew NelsonShannon PriceDouglas WilsonJohn JohnsonMatthew MartinSarah VelazquezLisa MccallRonald GibbsLouis CannonValerie CurtisRebekah PearsonTiffany LivingstonBarbara WhiteheadGary PhillipsJacob KelleyJackie KirkJoshua AlexanderJerome RussellAngela CainRebecca JohnsonAnne SchmidtRhonda Peterson MDAngel MayerStephanie WeberDeborah AndersonMakayla HarrisJacqueline West DDSJames LevyAnna MarshallPatrick TurnerTami ChambersBrandon MooreDavid SloanAnita ZunigaLeonard GonzalesAnne Lee DDSDavid ChapmanChristopher KhanKimberly MillsChad EdwardsVirginia AndersonBeverly BauerRuben SheaJessica NguyenMelinda BondSpencer EvansIsaac KochBrent CarterErica MillerKristen PowellJackie OrtizMichael ReedAmy ShahMelissa LewisTodd GuzmanDaniel EvansAmanda SchaeferSteven WatsonGregory FosterBrandy LynchSteven WebbJacqueline Snow MDJason PayneHannah ParkerKaren PettyKaren ShawArthur YoungMarcus RushAngela StewartJorge HoNancy ParkDr. Jennifer SheaDaniel NelsonSheryl MillerErica DavisChristopher CantuCynthia DyerJonathan HaleDiana RussellErin BowersBrian MccoyAnthony HernandezBrendan MendezBrittany AdamsKyle DavidEthan SampsonEduardo SantiagoDana HaynesClayton Williams DVMRobert RoblesNatalie WhitakerNoah BooneAndrew WilliamsJonathan GayKerry FitzgeraldStephanie JonesRonald SosaFrances WhiteMeghan AdamsAmy FisherJordan GarnerTimothy WalkerStephen FitzgeraldLinda FisherNatasha BlairRichard JohnsonAaron CookJessica NortonAmy SanchezLaura ScottTimothy WaltersEthan StephensAmanda AguilarDiane FisherDenise HuangRebecca BlackKimberly WebbAmy BairdCarol StuartKendra ShannonMegan DavisRobert PayneRobert BentleyLisa ColemanBrandon SanchezMr. Jeremiah Morris IVAntonio OsborneDavid RamosMolly BrownAmanda SloanTammy ColemanEric WilliamsMaria AvilaEmma VasquezLori BarryBrandon MillerSherry MuellerScott WattsCasey MccartyDennis ButlerTara SnyderToni RobertsSandra HannaBrooke PierceAndre HarrisonMelissa CoxHarold DodsonFrank ParkerSherry GomezAaron CarterAlan ScottJennifer CannonAnthony RandolphSarah PittmanSamuel AvilaJaclyn BrownIan HartMr. John HarrisKristy SalinasLindsay NicholsonLisa MartinezCindy OwensJoshua CopelandStephanie JonesStacy BrownJeff SmithKevin ThompsonAudrey NguyenMichelle CallahanJustin OwenJose SmithKatherine BonillaKimberly MooreRebecca LopezMelissa FordAshley LewisMark JacksonCynthia ComptonStephanie WilliamsMelissa SchultzLance DennisPatrick GarciaBeth HernandezMarcus DavisSteven CalhounMiranda RamirezJohn BallJohnny MooreChristopher BradleyGlen MccormickZachary WilliamsStacey RodriguezLisa BrownKimberly JacksonVanessa YoungJermaine GreenPatricia SellersNancy BallGeorge MartinMonica WilsonKristen WilliamsonThomas AndersonMr. David Morales Jr.Samantha HoffmanScott CarpenterKayla RossGina TurnerMichael PayneJames HancockDavid HansonThomas HallBarbara Johnson MDJacqueline ThomasDanielle GonzalezBrian CollinsMegan Gutierrez MDConnie SanchezRandy HornLori NunezShannon WrightCharles IngramMichael WilliamsTimothy GravesPaige RiosMelissa AndersonAnthony BrownJennifer AndersonAnna RodriguezRobert MannAmanda KaneJoseph JonesRichard ThomasThomas FritzMargaret MasseyMatthew ChristensenSylvia HawkinsCalvin JenkinsDavid BauerDebra JacksonJacqueline MartinErik DunlapJennifer ShepardTheodore PatelMeghan HarperKeith ReedDaniel VaughnJennifer PinedaWilliam HinesJason SmithStephanie WhiteZachary GibsonJustin SilvaRobin OdomAnna KochJeffrey TaylorJohn WhiteKaren FischerKelly RobertsTodd DavisSusan SchwartzLarry Chandler Jr.Robert RosalesAndrew MurrayErica MitchellVeronica PotterHaley CampbellMichael JenkinsRonald Matthews PhDNicole KnightDanielle HaleRobert VelezRobert FosterChristina TapiaMegan SimsJonathan BauerJeffrey WebsterNicholas FordMichael ConleyJoshua ReyesAshley WeissRichard BrownErika JohnsonJesus GordonMichaela SmithTerry DavisKathy JacksonChristian JonesLaura RhodesKari JacksonJoseph HansenAshley WilliamsRandy MorenoKevin LarsonDaniel GordonMichael DavisJuan LopezKaitlyn NicholsonAnna HaynesStacy JamesDon MurrayBradley WhiteJohn GarzaJoseph MorrisJoseph MartinezSteven WhiteCharles ShannonDavid SalazarJoel BakerDaniel WrightDwayne DavisJames Clark IIRebecca MolinaAmanda AlexanderBetty EricksonJill CalhounCameron Roman Jr.Joel GarciaKelly PierceDavid HowardMichael EdwardsMadison HoffmanSergio McfarlandKatrina SmallMichelle MichaelBrian WrightJeffrey ChavezChristopher RobinsonAudrey ClarkJacob HowardDerek AndersonAmanda GalvanAmanda LoganMichael LevineRonald PooleJohn WallaceHannah BakerLinda WolfeLee JonesTerri ValdezMelanie PaulSarah AllenGina AguilarMelissa SullivanBrian MackRoberta SandersJeffery ToddAmy FloresKristin GreeneCheryl BrownDebra GreenTamara PottsJacqueline VargasJeremy McguireDaniel BurtonTyler LambertSteven ChapmanKatelyn WalkerDavid HarperJulie AllisonJessica ChapmanCarolyn CookMadison LiKelli HouseRebecca BrennanPhillip AdamsMike AllenAngela CostaAnna EatonSandra MartinSarah HowellPaul SilvaBrianna MosleyKarina CalderonBecky HallMonique SharpFelicia CampbellBrittany CunninghamLori MitchellDaniel HernandezBenjamin RichardsonKelli WilliamsAngela HendersonElizabeth DixonNancy WheelerJohn JosephDarlene RichStuart ReedMichael WatsonJennifer LevineJared SandersTammy OconnorLarry HurstLisa GarciaPhilip ArnoldChad GarciaSandra JonesJared StrongElizabeth AustinCrystal GonzalesScott ChanJennifer JonesChristopher BakerStephanie SmithTara KimMr. Ian SmithRhonda AriasKimberly PadillaMatthew BakerApril WilliamsPaul MckayLawrence JohnsonScott MartinezTimothy TaylorPamela GrantPeter JonesMelissa HuffJessica SteeleChristopher RamirezJose ThorntonTonya CortezNicolas JohnsonStephanie RhodesAmy SmithSarah MillerJennifer StricklandDenise VazquezStefanie LopezMichael GonzalezHannah ScottJeffrey WhiteScott CortezChristopher CarrollWilliam RodriguezJacob AndersonWyatt HarrisJacob CarlsonJason PerryVictoria HayesJustin CunninghamBobby BullockWilliam ReidBrianna MendozaJoshua FoxJulie GambleJames PerkinsKatherine BenjaminLuke DunlapChristine SanfordWilliam CastilloRobert SheltonDavid RodriguezRobert LaneJennifer ThomasSarah SnyderMichael WardDana ChavezAndrew SmithRachel GonzalezJose HansenMelissa Hunt MDPatrick BullockFrank RiveraAlexandria Cooper MDJames JonesMr. Andre JensenRobert FosterLeah BishopBrian GuzmanAudrey FieldsRenee Garcia MDEric RodriguezAngela WallJoseph HopkinsLauren JacksonBrandon JenkinsJose GoldenBobby YangKathleen MilesDavid BeardRicardo CooperKaren HolderChase VazquezWilliam OrtizAndrew RichardsonGabriela HurstNicholas BryantSean OrtegaCynthia McleanThomas MillerErin PerezSteven LambMichelle CruzNicole RodriguezMelissa FordKelsey SmithBradley SnyderHeidi MasonLaura JohnsonAmanda MooreRobert AndersonKristina HunterRonald CooperJustin ThomasMichael RobbinsKarl BellSamantha ScottChristopher Smith Jr.Joseph WareKelsey GouldMaria DavisJacob JohnsonStephanie DavisBenjamin FreyKathy MasonRebecca CollinsJenny CarrHeather BurkeKenneth WatkinsMrs. Lori Rogers MDMelissa SchmidtTammy Dunlap DVMFrank BlackwellMichele TorresDana BuckRobert HowardCarol ShawJason FergusonBrian ClarkKaren BrandtWilliam DurhamShannon JacksonElizabeth AllenPatricia HoustonJason PearsonMonica OliverNicole HaynesCraig MorganScott BlackEvan WilsonAngela FitzgeraldJames SullivanKenneth OlsonKristina CraigDavid BrownDavid RangelLuke MoodyPamela ParsonsSeth GreenRoberto EscobarFrances PhillipsMichael SmithRichard HammondJustin SchneiderSarah PadillaAshley GardnerCourtney LutzAlbert SheaJennifer McguireCharles SmithJenna BartonJeffrey SinghJoseph RamosRachel JohnsonJoseph PopeJanet GlennSteven ObrienChelsea RamosEmily WardCourtney WardHeidi CohenMatthew Sawyer PhDMarilyn ColeJoseph MorganCarolyn MasonLori GainesJohn JohnsonPamela MartinBenjamin LeeJeffrey BarnesJustin MasseyRachel KeyVictoria BakerClaudia WoodScott HughesBrandon MendozaLinda FischerThomas MccoyDavid ChapmanJasmine FloresMichael FernandezCassandra HaasCrystal SpenceLindsey WatkinsTravis MitchellKatherine RodriguezMatthew BrownKatie HamiltonTina HowardSheila ClarkAnn BishopKathryn HannaDavid GomezCarl BakerDiana PhelpsKari HuangBarry GarciaSara WellsTanya TurnerColleen GibsonJordan PetersonFrederick RochaMegan PowellRicardo WilliamsKathryn YoungDonna CollinsVirginia GonzalesRhonda BeckElizabeth HughesDebra GrayDonna JohnsonBrittany HodgesKimberly RamirezSherry GutierrezStacy OrtegaJohn GrantMelvin WoodsTammy RussellBenjamin RoweWendy MyersApril MillerAnthony HayesWilliam JordanChelsey VillanuevaLisa BakerMaria CastroRose JacksonAlexandra MccarthyKevin StricklandJohn SmithDiane TerryAmber LeonRhonda GarciaJon MatthewsAngel BuchananElizabeth AllenKristen HartmanStephen HoodSarah ValenciaAnn CarterLynn RivasJeremy WrightBrandy WestPamela GrayCarmen ThomasJessica EllisThomas LarsonJuan AshleyAustin WilliamsDaniel WattsSonya ShawMaria SilvaPatricia SmithPaula ClineKyle BoydLarry WhiteSarah BuckMatthew SmithTiffany CookKathryn CoxSophia WhiteKelly LynchTyler HuangAlexis DonovanKaren PrestonAmy WolfEric WilsonTasha ButlerTara FloresBrian HernandezJulia HarrisMary HunterRobert PerezDavid LopezCheryl TaylorAdrian GonzalezJared HarrellChristopher ThompsonDaniel PerezGary ZamoraEmily TaylorAlicia AlvarezCollin ThomasJulia GeorgeTravis ReyesElizabeth EatonChristina RileyChristopher ShermanAmy BooneStefanie JacksonDestiny JacobsonRachel HannaPeter SmithBrittney RandallKristen DuncanAngela PalmerJames JensenMatthew ArmstrongCynthia JohnsonDale BartlettMike Harris PhDMonica BerryGeorge HansonJoshua HarrisMike HoganAnthony LeblancBrian WaltersJonathan MckenzieAlicia TownsendAlyssa HayesMrs. Christina Mitchell DDSKatherine BrownSusan MooreDavid JohnsonJordan BrownShelby LynchBenjamin PerkinsChristopher ToddKim TerrellElizabeth BrownColton KelleyMelanie KentMichelle BlackwellChristina BarnettElizabeth VargasTaylor BarnettNathan RomanTina WilsonAngela JonesAngela LopezHeather BarnesBrian ThomasLuis PerezDouglas HawkinsAnne WatersIan GallagherJeffrey GarrisonApril PowersConnor MorseTeresa WilliamsSteven LuceroJustin MillerLisa HendersonDavid KingJill BakerJason ParkerJennifer EdwardsChristopher EdwardsEvelyn Suarez DDSValerie HillAmanda MartinezMatthew MartinCarl CooperLori BakerMichael WhiteJessica MitchellKathleen OwenDawn NguyenJoseph GeorgeMark SmithRonnie RoblesChristina Alvarez PhDCharles HarveyMatthew SilvaCandace FrankJohn HaynesNicole BradfordJulia MillerGabriel DunnAlan LeeJennifer ScottTiffany AndersonKatelyn WeberNicholas YoungDanielle BrewerHelen JohnsonJohn RobinsonBradley DavisAlexander RoyEric SotoWillie YoungCharles LeeWilliam WigginsJoanne ManningDustin GarciaAshley RayDebra EvansEmily Duran MDDavid RodriguezRandall MyersTravis LopezElizabeth GonzalezLarry WilliamsBrian HoldenJeremy RodriguezOlivia HawkinsTodd Grant Jr.Reginald AlvaradoMichael NelsonMichele GrayBrian ArmstrongMark BryantDesiree ClarkBrandon TannerLinda JensenSheryl CurtisDaniel AndradeMrs. Veronica ShermanAndrew FarmerApril MillerSharon NelsonJulia ChristianDanielle MooreMonica CookKelsey DillonMichael HoldenMichael StoneThomas MartinezTerry FuentesRebekah HallTammy WardMichael WrightChristina MartinOlivia RiceKristen NealMatthew WhitakerLori FosterMr. Alan AndersonRobert OconnorJohn GallegosRobert BurchMichelle WagnerJeffrey RobinsonTimothy BrayWilliam SimonClaire LoweryMaria AllisonJennifer YoungPamela MannRachel StephensonMadison MillerSonya JuarezCharles AveryTeresa GriffinCassandra KelleyJohnny BanksMichael MartinezChristopher MaynardElizabeth LewisJames SanchezMorgan BarnettTheresa SmithTracy VazquezScott ProctorGary JacobsMr. Jason JacksonAustin LongJanet JohnsonJessica MoranLaura ChapmanDerrick JohnsonMargaret BatesRobert FernandezCharles HicksScott CooperJamie GreenMeredith MckeeTracy DuranKathryn StanleyDaniel ClarkJohn PatelScott MeyersJulia SimmonsValerie ClarkMrs. Jennifer RiveraAmy ThomasRichard PooleStephanie GarnerAmy RushCheryl HernandezMichael SmithStacey ContrerasCheryl OsborneJoseph GuzmanSierra KentJose BennettNathaniel JohnsonJoshua MeyersTracy NguyenRandy LewisMichelle DavisDavid AdamsJonathan YoungJoy PerezAngel JacksonTodd AdamsSheri FletcherMatthew BridgesBenjamin MeyerMichael KennedyJuan BurkeMatthew WatkinsAlex CareyDr. Terry SanchezKathleen ColeJeffrey RomanJennifer MillerThomas RasmussenCameron MillerLisa PinedaJennifer MurrayRobert GoodmanMr. Scott SextonTamara HollandKelly StewartKristopher MurphyRobert WagnerColleen MartinezMichael HowellSusan ParsonsJordan ChristensenMeagan WhitneyChristopher DavisYvette HarringtonChristine ElliottRhonda LynchDebbie GrayMichelle BrandtWilliam WrightBailey PriceDonna LopezTara MarshDaniel LeeKeith AndersonJasmine RileyMelissa TorresPamela HunterAdriana SnyderKevin FlowersDouglas WilliamsDavid ZhangMelanie MillsAllison JohnsonDebra HowardSavannah PowellDavid BoydJustin MartinezKenneth GardnerMelissa ChavezStephanie HartTaylor RiggsJerry WigginsAllen GarrisonDarius AtkinsonTimothy JacksonJeffrey DelacruzDaniel GallagherElizabeth HigginsCandace OrtizScott CohenTiffany PerryDustin ChandlerRobert SchmidtChristina AdamsAlison SmithCatherine HortonBetty GallowaySara BushDavid RyanJames BeltranRaven LawsonAndrew TaylorMichael BatesAndrea SteinHunter FitzpatrickSarah KirkChristopher WestAndres JonesKristina GarzaErica AndrewsDanny MayerJeremy NavarroJake RobersonZachary ChavezMaria FitzpatrickSandra SmithAmanda RobinsonDiana MoranAlexander WrightMrs. Wendy HayesKenneth Santiago MDAnthony JenkinsAmy ArmstrongTeresa LeonardJonathan AdamsWalter ClarkDonna CoxDr. Matthew HernandezDouglas HamiltonCheryl MccormickEllen KellyRobert CarterIan WilliamsJose MartinezDavid SimsJennifer JonesMeredith GarciaJohn WallsAdam StevensonJacqueline BraunChristian MartinTroy ScottNathaniel AdkinsTeresa MolinaMichael LevineElizabeth KellyDerrick BrownAshley CalderonJennifer GarciaChristopher LambLouis Hodges DDSRonald MartinezMonica CochranJeffery WatsonDr. Douglas DuffyGina CurtisJason LoganThomas FreemanJustin MillerJustin JohnsonHarry SnowThomas TuckerAmanda ColeMrs. Michelle PattersonJustin LeeSamantha CooperChristopher SmithCathy AlexanderDawn AdamsJustin FinleyLauren KaneJacob LoganDiane BradfordKenneth LeeJeanette YoungEmily ThompsonNicole BauerLarry MonroeMelissa WilsonNina ShahLeslie WilliamsSandra OliverRobert RobinsonVirginia PopeBradley MurphyMrs. Jennifer CraigTeresa LambLawrence HintonKyle CollinsKyle DavisMarie AndrewsNina ThomasMark MezaJason FranklinAlexis AdamsGary FloresBrittany GillespieAmanda RileyMr. Michael GrahamSusan BakerDaniel OlsonElizabeth WalkerLisa MitchellAndrew HerreraHoward JohnsonMichelle FoxJessica FloresAdrienne HowardJames KingMike HillErika LoganJulia HowellAmanda WebbShannon GutierrezSavannah WillisAndrew RichardsonTristan StuartJudy FordDr. David WrightMichael FisherRichard GilbertRussell YoungSamantha HughesSuzanne TorresWilliam BradleyElizabeth ParkDebbie WagnerAnthony SmithVanessa LarsenMelvin HoltAmber RiosHerbert BellDeborah McdonaldDonald ReevesTimothy CarrNicole PetersonGregory HenrySuzanne UnderwoodKevin CoffeyJeff EstesTiffany ReynoldsJordan WardChristina RobersonAndrew PowersDavid WilsonCody ColeJeanne Fischer MDWilliam HinesCharles KingDebra RyanJason SullivanJennifer JenningsJames ThomasEric PetersKaren WadeCheryl ThomasMrs. Amanda RoseJohn WilsonRobert HinesElizabeth BowersDavid BookerCarolyn JohnsonBlake LopezKristina BoothRebecca EricksonKimberly CollinsChristopher HornNicole GarciaMatthew RiceJonathan SmithVeronica McmillanVirginia PetersTeresa PerezMatthew McdonaldCassidy EatonMichael MyersBradley BrownJason HuntMary LeeRichard LevineBryan SchmidtPatricia MonroeBreanna HorneSusan LopezKimberly CooperMargaret DeanMichael LanePatricia PerrySusan SandersKendra SmithJohnny SchneiderLauren FitzgeraldJessica SmithRebecca DavisAmber ArnoldElizabeth PerezAlan BurnettRyan CookeJoseph JamesEllen DavisBobby NobleChelsea TaylorCatherine HarrisBrent ReevesJohnny JohnsonValerie ObrienCynthia MossRebecca Salazar DDSChristopher NelsonDiana PonceMichele ClarkAlexander CarsonTheresa MillerJonathan ParkNicole OwensJames YoungBrian DicksonAnthony MackAriel ChambersJamie WalkerKenneth RaymondElizabeth WelchRay HoffmanMrs. Kathleen CookSheila GreenMary GarzaJessica SmithAntonio OconnorRobert DiazMichael CordovaMarie StanleyAmanda SolomonRobert Olson DVMPatricia CohenCourtney PenaKara SmithSamuel RichardsonMartin PhillipsScott BrewerLinda CalhounJames StephensBenjamin EvansJames WilliamsKathy BrightAmber LopezAshley BergLisa GonzalezDaryl JohnsonKristen CrossWalter MoranKyle GomezLonnie HerreraMaria HubbardAbigail YoungMelissa ThompsonMichael CooperTiffany LeeJohn BrownDavid DavisShane GibsonSteven MyersNancy RossMark EverettSteve WalkerMary RodriguezJonathan ByrdRalph MoyerNicholas DiazChristie MejiaCarl EdwardsStacy DavisAngela TownsendRobert BerrySabrina FrancoRichard Cherry DDSMelissa FloresMadeline BrownRyan GonzalezTimothy GriffinJeffrey Shepard DVMLisa PachecoTerry KingJames Holland MDTanya SmithKevin RobinsonNicholas TannerDavid DavisGilbert HodgesShawn RobinsonDaniel MartinezAmanda KingStephanie HatfieldMadison ConleyTeresa OdonnellLauren CampbellStephanie MayerLisa JohnsonJordan WoodsNancy PatelTimothy GomezRay CampbellRobert LandryKarina WelchHelen HallJamie BaileyMichaela DanielsTammy DaughertySarah DennisNicole ChavezDavid HoffmanDiane ReynoldsJessica MeyerKenneth AlexanderLisa HernandezJack JohnsonKristin ThorntonChristine WilliamsTimothy DavidsonMonique HouseStacie KramerCourtney ValenzuelaCraig McgeeMatthew GarciaRebecca WilliamsMelissa ShepherdTanya HawkinsManuel TurnerRichard WallaceJacob PorterDr. Patricia BakerApril JonesRyan HornRebecca FloydVictoria MyersMichele NelsonJohn SmithDavid SantosJoshua Montgomery MDRobin ThomasDenise CameronKeith GonzalezBrooke LongMark JordanBryan MayerSylvia BrownTiffany AllenWendy MartinezMichelle WeberJenna DickersonMegan HumphreyPaul DavisMichael DavisMary EatonKathleen FullerJill MoralesErika WestCynthia GeorgeAlan ObrienMary ClaytonJustin PenningtonKathy BurgessBrett JenningsSamuel WatersFrank RobersonKaren ShannonBrandon GardnerKevin ArmstrongStephen MccallAnthony LongDebbie SmithKim LewisMatthew BoydKevin Andrews PhDDiane VaughnEdward MunozTheresa AllenRonald RoseSamantha MeadowsLisa ThompsonDr. Rachel GilbertChristina HaynesDonna RiddleNatalie MaloneMatthew HernandezChristopher TateRicky MillerLinda AndersonShannon FarmerJill LawrenceKenneth CoxMichelle EllisMeghan HartBobby SolomonDana WalkerCassandra WatersMichael DavisLori WilsonLouis McdanielGregory JonesKyle SpearsNicole BurgessDavid JensenNicole GoodwinChristopher WelchJared LynchJoseph HansonSara BrayKenneth CarterNicole BuckRachel DiazMichael RogersKaren EllisDawn LawsonJacob DixonAngela PhelpsDavid GutierrezStephanie HarrisonRobert SalazarSabrina BartonWilliam PetersonGregory VasquezMolly MasonMatthew FritzKelly BishopJoshua ReynoldsMichelle PerezAlbert WrightRachel McmahonJulie CooperIan ContrerasShane BennettJoshua FernandezKendra WardEarl CaldwellChristopher HernandezShane MartinezElizabeth JohnsonJessica GonzalezJesse DaltonMelissa ParksAaron MitchellJennifer PettyKathryn ColemanDavid WeberJill WheelerMichael LeeTracy WellsFelicia NguyenAustin MooreCharles WilsonWilliam WatersDustin MossRobin WhiteDebra RodriguezAnthony MontgomeryMark SpencerConnie SkinnerJennifer GrayJeremiah HolderKristine WadeWilliam FloresJeffrey DavisLisa VasquezKenneth Avila Jr.Sergio MayLaura EvansLeah PalmerConnor LandryNathan RollinsRonnie JonesDavid RichardsonAlex FlowersLisa WalkerAndrew PierceMiss Taylor BarronPatrick GalvanJonathan StrongKevin HowardChristian MuellerBarbara HartDavid WoodJohn LawrenceJohn GarciaDaniel CrossRobin BrownJohn PerezBrian MclaughlinNancy BrownKelly HamiltonMichael GreeneAmber SmithKristin CarlsonBenjamin ValdezDavid HarrisSarah GarciaElizabeth AllenDiana AyalaJulie HuntTimothy HillSylvia AtkinsWilliam HudsonPaula JonesBriana StoneChelsea WadeJoe MeadowsJack LoweJesus JohnsonSteven WebsterHenry RamirezChristopher SullivanJared WardMichael RomeroJody HunterCarol DuffyCaitlyn SmithSarah SmithJoshua SantiagoJacqueline DavisJonathan MercerDesiree CastroJessica MillerAntonio MasonMelanie EsparzaHolly McphersonZachary RiveraCarol HughesMr. Jason Lopez Jr.Darlene SmithBrianna WhitneyJeffrey MendozaChristine HillCaitlin JohnsonJasmine ObrienBrandon FlowersRobert BoyerLaura CummingsJason PowellDawn HillDana StricklandKristina WalkerMichael TuckerVictor IngramLisa GreenAlexander NormanBonnie ValentineVernon YoungHenry MorrisZachary ParkerErika JonesMisty HatfieldChristine BurtonNicole MooreJames GarciaDavid MunozJames SmithTracy SteinCharles HoltBrenda SkinnerAmy BrownSummer HuntJames MoralesGavin MckinneyAndrea BennettSarah MillerJoshua GrahamParker Carter MDJerry BrownDennis Wells DDSSharon DillonTodd WilliamsSteven NelsonJennifer HarrisonKathleen HallMelissa TranBrenda WilliamsSamantha JohnsonTammy MortonEdward GonzalezSandra LaneJamie JacksonShelby RodriguezBrian MoralesCassandra GarrettTonya ArmstrongJennifer HuangChristopher DoyleSharon RobertsElizabeth MunozVictor BurkeSteven NewtonDana LeeRobyn HernandezJacqueline AlvarezJames JordanAllen HallTerry TurnerNicholas JonesRachel PetersenPatricia LopezJames RayJeffery TranMichael CaldwellMichael TurnerMichael GonzalezAlexis BartlettMichele ColemanAdrienne TaylorChristopher NelsonCurtis LeeMrs. Carol WhiteCourtney Stephenson MDZachary StoneDr. Andrea RoseWendy PetersonJennifer HernandezTara RodriguezCorey BerryNicole WilliamsSteven RamirezMichael BurnsRita ReynoldsBrian RobinsonKatherine FrancoShannon CooperSara OwensMartha StoneEvan MooreKendra WellsAndrew HolmesSarah BryantGabriel MccallMarvin BridgesGail CampbellTerrence WelchJennifer HarrisRyan PayneEileen PotterHeather KellerDylan FrancoJeffrey RobinsonPhilip AndersonDr. Seth Villarreal DVMKaylee OconnorVincent LesterChristopher RosalesRobert RussellMichael MillerAnnette WilsonLindsey NobleDaniel LewisAlexandra BlackDerrick SilvaMatthew JacksonBrian FischerRenee SmithMadeline NelsonCarla HamiltonCynthia HallBarbara CalderonJustin RichmondMrs. Sabrina Murillo MDMorgan ThomasJeremy GarciaElizabeth ChaseErnest BarnesTanya TylerMary EstradaRichard SheltonShannon LewisKaren BridgesCynthia StoneElizabeth GibsonJorge DanielKatie GentryVictor PerkinsKristin SloanJennifer CunninghamJonathan JonesTodd RoseRobyn WrightRebecca ChapmanCarrie MichaelStacey TerryJohn ShawHeather GordonMr. Eric GordonWilliam RowlandAmber DiazLuis EllisScott HarrellRachel KellyColleen ReedTammy ColemanMelanie WilkinsDavid GouldManuel AguirreKatherine SmithMrs. Brenda Johnson DVMAmber CooperShannon MartinAustin PenaKellie BrownAshley WalterRaymond AguilarBrittany SmithMichael PorterDaniel HaleyRobert HendrixThomas HallWilliam WardDonna HolmesMatthew LeachZachary PowersTanner GloverKristen ClarkTravis BrandtJo MccarthyKenneth HowardKimberly AbbottDonald MillsLori WilliamsMichael ScottScott AndersonShannon ThompsonAndre BradyErik GibsonKelly AndersonDerek AllenThomas SandersJoseph HughesMarcus OrtizRebecca CollinsRebecca MccormickBenjamin AdkinsEric AndrewsTeresa OsborneLinda BaileyJack MillerZachary HinesJoseph MullinsDeanna PerryAndrew RodriguezHannah EdwardsFranklin RobertsonTeresa SullivanBriana LucasKimberly MartinezRoy RodriguezKyle RobertsElizabeth WilliamsGeorge LopezJessica FosterCasey EvansRachel TerrellChristopher AllisonMatthew WillisSheri ThomasMarc ChaneyDiana HaleRachel MillerJordan PattersonMike DuncanAnthony Garrett DDSDeborah RollinsAllison WhiteTimothy StewartBrenda TownsendTina CampbellAndre SmithRichard RomeroJerry LewisDominique GarciaSarah GonzalezMichele AcostaAnne SheltonAmanda NelsonJeffrey MilesSydney KimMathew TuckerAaron PayneThomas HinesJonathan MartinezJose DelgadoMichael FoleyChristian GibbsLawrence MitchellWesley WagnerRaymond NguyenRobert WiseMichael MaxwellAlejandro PorterLaura BarnesDaniel HallJeremy SinghJustin MillerAnthony WadeEric ChavezRobert PerezCharles OwenWendy FinleyChristopher WilliamsDerek AllenDavid ScottMorgan GonzalezCharles RitterSabrina RasmussenJason HunterBilly Franco PhDMatthew CannonHannah BarnettMr. Jeremiah RogersMr. Donald VangJason FlemingKelly OconnorAnna BergPamela TownsendMaxwell LeonardJohn OrtizJonathan CooperCassandra ColemanDavid RoweJason MolinaRandy BlakeMatthew MillsVincent MccoyTracy EspinozaBrandy KellerAnita ScottGabrielle GarrettDenise TerrellAmber ClarkRuth VargasCurtis MooreDiana BradleyJohn GonzalezAllen BaxterJason DukeSteven PalmerJason PerryJimmy PadillaRandy GarrettBeth MartinAngela SimpsonHannah HicksCody WilcoxAlbert RomeroAndrew BoydShane DavisJacqueline ChandlerSandra PerezThomas WallsSarah WilliamsDr. Alexander Chang PhDJustin RichardCassandra FranklinFrancisco SheltonMr. Robert HendricksTravis WalkerDonna JonesRobert BeckKimberly JonesJordan GomezJames LopezMatthew BoydMichael ClarkMichele MooreLaura MillerKristen AguirreKristy MillerEvan BrownSara BradfordMike TaylorChristine BensonJennifer GonzalezVanessa GarciaDana BarryGerald KimWendy ShepardErin GarrettErnest LewisAmanda NielsenTerry BenderAnna CooperHarold PetersonEddie WilliamsJessica EllisJoseph MontgomeryMarc PalmerSarah RodriguezShawn ObrienRobert HaneyKathryn GonzalesAmy RiceHannah BruceCharlotte LopezMichele TerryKrystal FreemanTodd MckeeJames BowmanJennifer JohnsonLucas ColemanAndrew ScottKristy SnyderWarren GrayEdward AllenRobert HessTanner FrancisDavid WrightSarah RobbinsDr. Bryan KimJeffery BanksCarlos SmithGlenn BatesJennifer PrattErnest WongTimothy MossEmily ClineAnna AllenDerrick ChenLindsay ArmstrongChristian KingAshley DaughertyRobert GonzalezPatrick BlairWilliam PottsAndrew RiceMark JeffersonLawrence RogersAlexis ChangMichael AlvarezMrs. Cynthia LopezMitchell RobinsonNicole RollinsKristin SchroederCathy JenkinsJodi WilsonHaley BishopDr. Laura ThompsonJohn QuinnAmanda HughesAndrew ReidKristen KingMatthew WilsonDonna BrewerArthur LeeLori WilliamsMonica WyattJessica RichardDaniel GarciaAlexis CollinsMs. Stephanie Schwartz DDSLoretta PerezRonald DouglasMichael PenningtonLori WeaverMaria MarquezRandall BanksMatthew HarrisAlicia MartinDaniel PorterAnna AustinAdrian DavisWilliam FisherJamie WebbCatherine CurtisChelsey JonesEmily CurtisLisa SmithNichole CaldwellJoshua RussellErica CarrDebra SmithDavid GutierrezJohnny BeardBryce GarciaMelissa ManningRachel OwenLinda GarciaMary LawsonWhitney EstesMorgan AllenJoseph ButlerNicole StevensTaylor WoodsPatricia LucasKara SerranoSteven HansonAustin KellyCraig ZimmermanChristine AndradeGrace HarrisonJose SchmittNatasha DaviesDillon SmithSamantha RoblesRebecca MirandaChristina GayLawrence ZhangThomas GreenGlen MontoyaChristopher WoodMichael BoydMark CollinsClayton RamirezEmma GarciaJerry RoweBarbara AndersonShannon BlairCarolyn HawkinsMatthew GardnerCharles MorrisDerrick CarrollCarrie TranKevin TannerCynthia MartinezBrandon LopezMichael SmithRonnie BryanJames MitchellJesus BooneRebecca JohnsonLarry BakerTara CampbellMr. Anthony DeleonCraig RodriguezKevin GreenScott MunozAndrew AllisonMadeline MonroeCristina HobbsHailey JacksonLindsey NavarroDaniel KellyRichard CohenMichael NielsenRussell PerezJason BrownKevin CastilloElizabeth BauerMichelle VillanuevaBreanna MooreDonald MartinezLauren FowlerTerrance HardyAbigail EspinozaAdam GriffinDerek HunterAlexandra FoxKarla McneilKevin FordEric SinghHeather WilsonMiss Sarah WestRebecca KnappMandy MoodyJohn JacksonMark BurkeEric SampsonAndrew SmithAlicia JohnsonGabriel ArroyoEdward EdwardsAlicia LeeXavier MitchellStephen VargasTimothy FinleyGeorge BarnettDaniel JohnsonKevin LongCorey PierceDr. Devin Sharp PhDKenneth AriasAmanda MosleyTroy BarryAlexandra BowmanSheri SloanCaleb BurnsDaniel MartinShannon TateKrystal MarshallKaren BellAlexander McculloughMelinda BarajasRichard SmithLindsey DavisSydney DanielsRyan KruegerMichael CurryMichael BuchananPaul PadillaMeghan TapiaMeagan BakerSarah RomanVictor WalkerDavid FullerChad SmithJennifer JacksonRichard ReyesSusan ShahMadison WagnerMary TownsendJeffery WilsonWilliam BowenDawn JacksonNicole MerrittMichael MitchellMichelle MitchellMalik JonesAnthony AlvaradoCarrie DavisKatrina RossMatthew SmithMichael HillSarah RobertsCheryl SellersMichelle AdamsBrittney Hammond DVMJessica ParkerErin StevensSusan RomanBrandon BrownMiss Chelsea Sullivan PhDLaura HudsonHeather MoranRebecca LittleLeslie HolmesKathleen PhillipsCarolyn CoxApril ZimmermanKristopher WrightMark WarrenLauren CardenasElizabeth FrazierChristy BurtonDr. Jessica Love DVMMark BaileyChristopher MontgomeryMichelle ClineJeremy AyersElizabeth WallerBrandon ChangLouis WoodsVanessa EnglishBrandy MitchellRoger KingBarbara HayesWilliam ArroyoLeah Page DDSPhillip GuerraKimberly BakerTara DouglasWilliam MillerMelissa OwensDaniel RobertsRaven CantrellJerry KelleyMary MezaAdrian StevensLisa DuarteDavid GonzalezNathaniel AlexanderJacob PayneChristopher GuerreroJessica GarciaDeanna OsborneKeith McdonaldTodd WilliamsChristine RobertsonTammie GarrettSandra GregoryDavid FergusonRobin CoxNathaniel OconnellMary AlvarezTravis GreenKim ParkerLuke FryVicki BerryCarol VelazquezJennifer SandersCrystal ChavezJennifer ThompsonDanielle BanksDouglas WoodsZachary GreenTracy FordElizabeth BeckerChristopher SilvaJacob TerryHannah WarrenMindy KennedySarah FullerKathy PenningtonTerry SnyderKristina LewisMason WalkerHannah Rose MDNancy HarrisonMichael SullivanMiss Norma McfarlandRobert HillJames LoveDenise PetersonKimberly LevineJoseph LopezTracey WilsonWilliam HolmesMichael GordonLaurie DoughertyAnna TownsendAdrian GarciaDwayne Mathis Jr.Sarah JohnsonRobin MitchellJoshua TaylorCandace PalmerThomas GarciaAlyssa HernandezMaria NormanAndrew CampbellHeather BellJason HallBradley MartinezAlexa KellerDavid BellAmy LeeJanet WattsTheresa KelleyDavid GoodAaron NelsonCheryl Gay PhDSandra BerryJohn DunnRobert TylerKimberly GilesMatthew OwensJaclyn WilliamsJohn BauerMichael AndersonTara ForbesJacqueline GarciaJoe KochDerek LopezAngela BryantMalik RoyMeghan WilliamsWalter MaxwellDennis KleinSean LeeGabriella MoodyNancy NelsonPatrick Morgan MDJason DrakeStacy LopezMary AcevedoDakota AdamsPeter GreeneDaryl GregoryAshley RiveraJennifer ScottPaul RiveraSean WellsJoshua CoxRyan WilliamsKathleen LoveJames ChavezEmily NorrisDawn LewisCourtney BartonBarbara BlackwellCasey ThomasHaley MorrisEric ThompsonBrittany EdwardsCharles BaileyJames JonesCatherine JonesGina SimsJohn McdanielDeborah GallegosHeather ScottChristine GarciaSamantha ContrerasTracy LoweryTaylor FowlerTerry WhiteheadMichael FischerJulie WarrenJay RobertsBrent SmithKimberly CarrilloBrandon OrtizRichard DavisElizabeth EllisonWilliam ReyesNicholas HarperPatricia WoodOlivia ReyesKaren MorenoSean RichardsonMelanie EatonMaria RamirezApril LoweDaniel CobbJeremy Rivera MDDavid KingTroy MorganAdriana WallDesiree CarterEmily HendersonTerri ManningMegan KirkAmber FitzgeraldJonathan CollinsTina MiddletonJessica FaulknerKenneth PrattEric LewisDennis SimonLaura GatesRobert DukeJacob MillerWilliam BlackburnMegan PottsJessica BradleyCarol TorresDeanna HughesTeresa LivingstonCynthia OlsonTammy SuarezGabriel BarberRobert HooperMandy HensleyTina MayerMarcus SmithDanielle ParkKayla PetersenReginald MolinaNatasha WilliamsKathryn MillerAllison MeyersTasha GrayDawn ChristensenKatherine BoothMarcus WilsonJason RodriguezRick ShannonJeffrey RubioKimberly FisherJoseph BradfordCrystal ShahHeather StephensonMichael JohnsonPatricia VillanuevaDavid TorresPerry PerezBrandon BakerHeather RobinsonAmy AllenKathryn BernardTroy GriffithDavid WatsonDebbie TurnerKayla BurtonHeather AllenJessica ArroyoDillon HardingAmanda BatesBrittany BoydDavid IbarraThomas CrawfordKathleen KnoxJoshua LewisTiffany TateEric GonzalezErika PeckGary HarrisonJoshua AndrewsAustin LangDavid BlackburnJessica WhiteJose LawrenceDawn JohnsonMr. Colton Collins IIBrandon OliverDeborah CarrollDavid LambertHoward LeonRobert FernandezSarah HahnJamie MasonDwayne SmithCynthia CastilloDavid SchroederBrandon WilliamsDavid MoranMary MoranCrystal MaldonadoHaley GreenHeather GordonAdam HuffmanTimothy WeaverTeresa HernandezMary HoweRandall DavisLauren ChristianCynthia GregoryKimberly PorterElizabeth CarrilloShawn BrownJames HowellCaleb EllisJoel SanchezAmanda SheltonLisa KnightErika RamosCharles BaldwinAnthony WelchJohn ThomasWilliam EstradaEric FrankEric PerezSteven TorresMichael WilliamsDavid SimmonsTracy SmithAndrew MejiaKenneth VasquezScott GomezJeffery SmithTammie RogersSteven LeAmanda JohnsonLaurie OliverTheresa MartinezKenneth MorrisonSharon PadillaJennifer ArroyoBryan SmithJonathan GardnerMr. Alexander DaltonJonathan OlsonJulie DavisSara RoseOscar KaiserNathaniel SmithKimberly CastroPatricia SmithAshley HouseStacie HollandDiana GarrettJesse TuckerJessica SchmidtMelissa ZimmermanJason RichardsMary JonesKimberly ComptonJason KnightMallory GravesKerry HendersonBrandon VaughnDonna HolmesAdam HermanSusan WilliamsMichelle WilsonAnita WilsonNancy SmithDr. Nicholas BraunChris Palmer IIIAshley LopezSara GarciaLaurie WheelerMichael JohnsonSharon McconnellAdam ClarkeKathryn JimenezKeith HoustonYolanda LeeJacqueline PetersonWendy HeathEric ContrerasMichael ParkMr. Mason Hernandez MDCindy PowellDr. Roberta EdwardsEdward JonesKristina PaulKayla ScottKimberly JohnstonMary SuarezAmanda JordanJennifer MendozaSarah DavisAnn FloresWilliam ReyesJoshua SwansonBrittney AdamsTanya BrownTheresa BarberRyan AguilarDiana CummingsJames EsparzaJacob RobertsJane LangBriana ContrerasBrenda EvansBrett SweeneyPatricia MillerTerry SanchezAngela GrayRichard MedinaCarlos ButlerBeth MorseJonathan GallowayMargaret JacksonVeronica ParkerVeronica GriffithTeresa KramerHeather WheelerAmy MillerJennifer HowardMichelle RamosJasmin GarciaDaniel WhiteKim MooreAlejandro ThompsonKatherine HornAndrew PorterStephanie TaylorJoe NunezBrett GardnerBrian WagnerKelly MillsKathy BushKristina ClaytonErica WilliamsEmily HessChase HortonJoshua JonesLynn FitzgeraldAmy SchaeferRandy MccarthyTonya HawkinsBrittany CarrJohn BoydCharles GonzalezThomas AlvarezDr. Kaitlin BartonKaren DukeSusan GrahamBrittany PetersonRichard EdwardsRobert ReidJackie AdamsSavannah CraneJason OrtizMary HarrisAnthony AndersonRichard VangJared ThomasJennifer HendersonDillon MeyersPaula ColeThomas SmithRhonda FergusonBrenda DixonDanny CummingsSteven FischerKenneth BrooksTyler SmithBrian LiRebecca HarrisRenee SpenceBenjamin SilvaAlison AndersonBethany HarveyRodney MillerNicholas CostaSamuel BlairKimberly BennettRonald BakerBrittany GatesKatherine SteeleCaleb HernandezRyan AllenRobert MillerRodney ThompsonSarah RiveraLauren MillerJaclyn AyalaJennifer TapiaGabriel AshleySarah CooperDr. Nicholas Garcia' to numeric",
      "\nThe above exception was the direct cause of the following exception:\n",
      "\u001b[1;31mTypeError\u001b[0m                                 Traceback (most recent call last)",
      "Cell \u001b[1;32mIn[13], line 2\u001b[0m\n\u001b[0;32m      1\u001b[0m \u001b[38;5;66;03m# Calculate the total school budget and per capita spending per school\u001b[39;00m\n\u001b[1;32m----> 2\u001b[0m per_school_budget \u001b[38;5;241m=\u001b[39m school_data_complete\u001b[38;5;241m.\u001b[39mgroupby([\u001b[38;5;124m\"\u001b[39m\u001b[38;5;124mschool_name\u001b[39m\u001b[38;5;124m\"\u001b[39m])\u001b[38;5;241m.\u001b[39mmean()[\u001b[38;5;124m\"\u001b[39m\u001b[38;5;124mbudget\u001b[39m\u001b[38;5;124m\"\u001b[39m]\n\u001b[0;32m      3\u001b[0m per_school_capita \u001b[38;5;241m=\u001b[39m per_school_budget \u001b[38;5;241m/\u001b[39m per_school_counts\n",
      "File \u001b[1;32m~\\anaconda3\\Lib\\site-packages\\pandas\\core\\groupby\\groupby.py:2378\u001b[0m, in \u001b[0;36mGroupBy.mean\u001b[1;34m(self, numeric_only, engine, engine_kwargs)\u001b[0m\n\u001b[0;32m   2371\u001b[0m     \u001b[38;5;28;01mreturn\u001b[39;00m \u001b[38;5;28mself\u001b[39m\u001b[38;5;241m.\u001b[39m_numba_agg_general(\n\u001b[0;32m   2372\u001b[0m         grouped_mean,\n\u001b[0;32m   2373\u001b[0m         executor\u001b[38;5;241m.\u001b[39mfloat_dtype_mapping,\n\u001b[0;32m   2374\u001b[0m         engine_kwargs,\n\u001b[0;32m   2375\u001b[0m         min_periods\u001b[38;5;241m=\u001b[39m\u001b[38;5;241m0\u001b[39m,\n\u001b[0;32m   2376\u001b[0m     )\n\u001b[0;32m   2377\u001b[0m \u001b[38;5;28;01melse\u001b[39;00m:\n\u001b[1;32m-> 2378\u001b[0m     result \u001b[38;5;241m=\u001b[39m \u001b[38;5;28mself\u001b[39m\u001b[38;5;241m.\u001b[39m_cython_agg_general(\n\u001b[0;32m   2379\u001b[0m         \u001b[38;5;124m\"\u001b[39m\u001b[38;5;124mmean\u001b[39m\u001b[38;5;124m\"\u001b[39m,\n\u001b[0;32m   2380\u001b[0m         alt\u001b[38;5;241m=\u001b[39m\u001b[38;5;28;01mlambda\u001b[39;00m x: Series(x)\u001b[38;5;241m.\u001b[39mmean(numeric_only\u001b[38;5;241m=\u001b[39mnumeric_only),\n\u001b[0;32m   2381\u001b[0m         numeric_only\u001b[38;5;241m=\u001b[39mnumeric_only,\n\u001b[0;32m   2382\u001b[0m     )\n\u001b[0;32m   2383\u001b[0m     \u001b[38;5;28;01mreturn\u001b[39;00m result\u001b[38;5;241m.\u001b[39m__finalize__(\u001b[38;5;28mself\u001b[39m\u001b[38;5;241m.\u001b[39mobj, method\u001b[38;5;241m=\u001b[39m\u001b[38;5;124m\"\u001b[39m\u001b[38;5;124mgroupby\u001b[39m\u001b[38;5;124m\"\u001b[39m)\n",
      "File \u001b[1;32m~\\anaconda3\\Lib\\site-packages\\pandas\\core\\groupby\\groupby.py:1929\u001b[0m, in \u001b[0;36mGroupBy._cython_agg_general\u001b[1;34m(self, how, alt, numeric_only, min_count, **kwargs)\u001b[0m\n\u001b[0;32m   1926\u001b[0m     result \u001b[38;5;241m=\u001b[39m \u001b[38;5;28mself\u001b[39m\u001b[38;5;241m.\u001b[39m_agg_py_fallback(how, values, ndim\u001b[38;5;241m=\u001b[39mdata\u001b[38;5;241m.\u001b[39mndim, alt\u001b[38;5;241m=\u001b[39malt)\n\u001b[0;32m   1927\u001b[0m     \u001b[38;5;28;01mreturn\u001b[39;00m result\n\u001b[1;32m-> 1929\u001b[0m new_mgr \u001b[38;5;241m=\u001b[39m data\u001b[38;5;241m.\u001b[39mgrouped_reduce(array_func)\n\u001b[0;32m   1930\u001b[0m res \u001b[38;5;241m=\u001b[39m \u001b[38;5;28mself\u001b[39m\u001b[38;5;241m.\u001b[39m_wrap_agged_manager(new_mgr)\n\u001b[0;32m   1931\u001b[0m out \u001b[38;5;241m=\u001b[39m \u001b[38;5;28mself\u001b[39m\u001b[38;5;241m.\u001b[39m_wrap_aggregated_output(res)\n",
      "File \u001b[1;32m~\\anaconda3\\Lib\\site-packages\\pandas\\core\\internals\\managers.py:1428\u001b[0m, in \u001b[0;36mBlockManager.grouped_reduce\u001b[1;34m(self, func)\u001b[0m\n\u001b[0;32m   1424\u001b[0m \u001b[38;5;28;01mif\u001b[39;00m blk\u001b[38;5;241m.\u001b[39mis_object:\n\u001b[0;32m   1425\u001b[0m     \u001b[38;5;66;03m# split on object-dtype blocks bc some columns may raise\u001b[39;00m\n\u001b[0;32m   1426\u001b[0m     \u001b[38;5;66;03m#  while others do not.\u001b[39;00m\n\u001b[0;32m   1427\u001b[0m     \u001b[38;5;28;01mfor\u001b[39;00m sb \u001b[38;5;129;01min\u001b[39;00m blk\u001b[38;5;241m.\u001b[39m_split():\n\u001b[1;32m-> 1428\u001b[0m         applied \u001b[38;5;241m=\u001b[39m sb\u001b[38;5;241m.\u001b[39mapply(func)\n\u001b[0;32m   1429\u001b[0m         result_blocks \u001b[38;5;241m=\u001b[39m extend_blocks(applied, result_blocks)\n\u001b[0;32m   1430\u001b[0m \u001b[38;5;28;01melse\u001b[39;00m:\n",
      "File \u001b[1;32m~\\anaconda3\\Lib\\site-packages\\pandas\\core\\internals\\blocks.py:366\u001b[0m, in \u001b[0;36mBlock.apply\u001b[1;34m(self, func, **kwargs)\u001b[0m\n\u001b[0;32m    360\u001b[0m \u001b[38;5;129m@final\u001b[39m\n\u001b[0;32m    361\u001b[0m \u001b[38;5;28;01mdef\u001b[39;00m \u001b[38;5;21mapply\u001b[39m(\u001b[38;5;28mself\u001b[39m, func, \u001b[38;5;241m*\u001b[39m\u001b[38;5;241m*\u001b[39mkwargs) \u001b[38;5;241m-\u001b[39m\u001b[38;5;241m>\u001b[39m \u001b[38;5;28mlist\u001b[39m[Block]:\n\u001b[0;32m    362\u001b[0m \u001b[38;5;250m    \u001b[39m\u001b[38;5;124;03m\"\"\"\u001b[39;00m\n\u001b[0;32m    363\u001b[0m \u001b[38;5;124;03m    apply the function to my values; return a block if we are not\u001b[39;00m\n\u001b[0;32m    364\u001b[0m \u001b[38;5;124;03m    one\u001b[39;00m\n\u001b[0;32m    365\u001b[0m \u001b[38;5;124;03m    \"\"\"\u001b[39;00m\n\u001b[1;32m--> 366\u001b[0m     result \u001b[38;5;241m=\u001b[39m func(\u001b[38;5;28mself\u001b[39m\u001b[38;5;241m.\u001b[39mvalues, \u001b[38;5;241m*\u001b[39m\u001b[38;5;241m*\u001b[39mkwargs)\n\u001b[0;32m    368\u001b[0m     result \u001b[38;5;241m=\u001b[39m maybe_coerce_values(result)\n\u001b[0;32m    369\u001b[0m     \u001b[38;5;28;01mreturn\u001b[39;00m \u001b[38;5;28mself\u001b[39m\u001b[38;5;241m.\u001b[39m_split_op_result(result)\n",
      "File \u001b[1;32m~\\anaconda3\\Lib\\site-packages\\pandas\\core\\groupby\\groupby.py:1926\u001b[0m, in \u001b[0;36mGroupBy._cython_agg_general.<locals>.array_func\u001b[1;34m(values)\u001b[0m\n\u001b[0;32m   1923\u001b[0m \u001b[38;5;28;01melse\u001b[39;00m:\n\u001b[0;32m   1924\u001b[0m     \u001b[38;5;28;01mreturn\u001b[39;00m result\n\u001b[1;32m-> 1926\u001b[0m result \u001b[38;5;241m=\u001b[39m \u001b[38;5;28mself\u001b[39m\u001b[38;5;241m.\u001b[39m_agg_py_fallback(how, values, ndim\u001b[38;5;241m=\u001b[39mdata\u001b[38;5;241m.\u001b[39mndim, alt\u001b[38;5;241m=\u001b[39malt)\n\u001b[0;32m   1927\u001b[0m \u001b[38;5;28;01mreturn\u001b[39;00m result\n",
      "File \u001b[1;32m~\\anaconda3\\Lib\\site-packages\\pandas\\core\\groupby\\groupby.py:1878\u001b[0m, in \u001b[0;36mGroupBy._agg_py_fallback\u001b[1;34m(self, how, values, ndim, alt)\u001b[0m\n\u001b[0;32m   1876\u001b[0m     msg \u001b[38;5;241m=\u001b[39m \u001b[38;5;124mf\u001b[39m\u001b[38;5;124m\"\u001b[39m\u001b[38;5;124magg function failed [how->\u001b[39m\u001b[38;5;132;01m{\u001b[39;00mhow\u001b[38;5;132;01m}\u001b[39;00m\u001b[38;5;124m,dtype->\u001b[39m\u001b[38;5;132;01m{\u001b[39;00mser\u001b[38;5;241m.\u001b[39mdtype\u001b[38;5;132;01m}\u001b[39;00m\u001b[38;5;124m]\u001b[39m\u001b[38;5;124m\"\u001b[39m\n\u001b[0;32m   1877\u001b[0m     \u001b[38;5;66;03m# preserve the kind of exception that raised\u001b[39;00m\n\u001b[1;32m-> 1878\u001b[0m     \u001b[38;5;28;01mraise\u001b[39;00m \u001b[38;5;28mtype\u001b[39m(err)(msg) \u001b[38;5;28;01mfrom\u001b[39;00m \u001b[38;5;21;01merr\u001b[39;00m\n\u001b[0;32m   1880\u001b[0m \u001b[38;5;28;01mif\u001b[39;00m ser\u001b[38;5;241m.\u001b[39mdtype \u001b[38;5;241m==\u001b[39m \u001b[38;5;28mobject\u001b[39m:\n\u001b[0;32m   1881\u001b[0m     res_values \u001b[38;5;241m=\u001b[39m res_values\u001b[38;5;241m.\u001b[39mastype(\u001b[38;5;28mobject\u001b[39m, copy\u001b[38;5;241m=\u001b[39m\u001b[38;5;28;01mFalse\u001b[39;00m)\n",
      "\u001b[1;31mTypeError\u001b[0m: agg function failed [how->mean,dtype->object]"
     ]
    }
   ],
   "source": [
    "# Calculate the total school budget and per capita spending per school\n",
    "per_school_budget = school_data_complete.groupby([\"school_name\"]).mean()[\"budget\"]\n",
    "per_school_capita = per_school_budget / per_school_counts\n"
   ]
  },
  {
   "cell_type": "code",
   "execution_count": 1,
   "metadata": {},
   "outputs": [
    {
     "ename": "NameError",
     "evalue": "name 'school_data_complete' is not defined",
     "output_type": "error",
     "traceback": [
      "\u001b[1;31m---------------------------------------------------------------------------\u001b[0m",
      "\u001b[1;31mNameError\u001b[0m                                 Traceback (most recent call last)",
      "Cell \u001b[1;32mIn[1], line 2\u001b[0m\n\u001b[0;32m      1\u001b[0m \u001b[38;5;66;03m# Calculate the average test scores per school\u001b[39;00m\n\u001b[1;32m----> 2\u001b[0m per_school_math \u001b[38;5;241m=\u001b[39m school_data_complete\u001b[38;5;241m.\u001b[39mgroupby([\u001b[38;5;124m\"\u001b[39m\u001b[38;5;124mschool_name\u001b[39m\u001b[38;5;124m\"\u001b[39m])\u001b[38;5;241m.\u001b[39mmean()[\u001b[38;5;124m\"\u001b[39m\u001b[38;5;124mmath_score\u001b[39m\u001b[38;5;124m\"\u001b[39m]\n\u001b[0;32m      3\u001b[0m per_school_reading \u001b[38;5;241m=\u001b[39m school_data_complete\u001b[38;5;241m.\u001b[39mgroupby([\u001b[38;5;124m\"\u001b[39m\u001b[38;5;124mschool_name\u001b[39m\u001b[38;5;124m\"\u001b[39m])\u001b[38;5;241m.\u001b[39mmean()[\u001b[38;5;124m\"\u001b[39m\u001b[38;5;124mreading_score\u001b[39m\u001b[38;5;124m\"\u001b[39m]\n",
      "\u001b[1;31mNameError\u001b[0m: name 'school_data_complete' is not defined"
     ]
    }
   ],
   "source": [
    "# Calculate the average test scores per school\n",
    "per_school_math = school_data_complete.groupby([\"school_name\"]).mean()[\"math_score\"]\n",
    "per_school_reading = school_data_complete.groupby([\"school_name\"]).mean()[\"reading_score\"]"
   ]
  },
  {
   "cell_type": "code",
   "execution_count": 2,
   "metadata": {},
   "outputs": [
    {
     "ename": "SyntaxError",
     "evalue": "invalid syntax (919114615.py, line 2)",
     "output_type": "error",
     "traceback": [
      "\u001b[1;36m  Cell \u001b[1;32mIn[2], line 2\u001b[1;36m\u001b[0m\n\u001b[1;33m    students_passing_math =\u001b[0m\n\u001b[1;37m                            ^\u001b[0m\n\u001b[1;31mSyntaxError\u001b[0m\u001b[1;31m:\u001b[0m invalid syntax\n"
     ]
    }
   ],
   "source": [
    "# Calculate the number of students per school with math scores of 70 or higher\n",
    "students_passing_math = \n",
    "school_students_passing_math = "
   ]
  },
  {
   "cell_type": "code",
   "execution_count": null,
   "metadata": {},
   "outputs": [],
   "source": [
    "# Calculate the number of students per school with reading scores of 70 or higher\n",
    "students_passing_reading = \n",
    "school_students_passing_reading = "
   ]
  },
  {
   "cell_type": "code",
   "execution_count": null,
   "metadata": {},
   "outputs": [],
   "source": [
    "# Use the provided code to calculate the number of students per school that passed both math and reading with scores of 70 or higher\n",
    "students_passing_math_and_reading = school_data_complete[\n",
    "    (school_data_complete[\"reading_score\"] >= 70) & (school_data_complete[\"math_score\"] >= 70)\n",
    "]\n",
    "school_students_passing_math_and_reading = students_passing_math_and_reading.groupby([\"school_name\"]).size()"
   ]
  },
  {
   "cell_type": "code",
   "execution_count": null,
   "metadata": {},
   "outputs": [],
   "source": [
    "# Use the provided code to calculate the passing rates\n",
    "per_school_passing_math = school_students_passing_math / per_school_counts * 100\n",
    "per_school_passing_reading = school_students_passing_reading / per_school_counts * 100\n",
    "overall_passing_rate = school_students_passing_math_and_reading / per_school_counts * 100"
   ]
  },
  {
   "cell_type": "code",
   "execution_count": null,
   "metadata": {},
   "outputs": [],
   "source": [
    "# Create a DataFrame called `per_school_summary` with columns for the calculations above.\n",
    "per_school_summary = pd.DataFrame({\"School Type\": school_types,\n",
    "                                   \"Total Students\": per_school_counts,\n",
    "                                   \"Total School Budget\": per_school_budget,\n",
    "                                   \"Per Student Budget\": per_school_capita,\n",
    "                                   \"Average Math Score\": per_school_math,\n",
    "                                   \"Average Reading Score\": per_school_reading,\n",
    "                                   \"% Passing Math\": per_school_passing_math,\n",
    "                                   \"% Passing Reading\": per_school_passing_reading,\n",
    "                                   \"% Overall Passing\": overall_passing_rate})\n",
    "\n",
    "# Formatting\n",
    "per_school_summary[\"Total School Budget\"] = per_school_summary[\"Total School Budget\"].map(\"${:,.2f}\".format)\n",
    "per_school_summary[\"Per Student Budget\"] = per_school_summary[\"Per Student Budget\"].map(\"${:,.2f}\".format)\n",
    "\n",
    "# Display the DataFrame\n",
    "per_school_summary"
   ]
  },
  {
   "cell_type": "markdown",
   "metadata": {},
   "source": [
    "## Highest-Performing Schools (by % Overall Passing)"
   ]
  },
  {
   "cell_type": "code",
   "execution_count": null,
   "metadata": {
    "scrolled": true
   },
   "outputs": [],
   "source": [
    "# Sort the schools by `% Overall Passing` in descending order and display the top 5 rows.\n",
    "top_schools = \n",
    "top_schools.head(5)"
   ]
  },
  {
   "cell_type": "markdown",
   "metadata": {},
   "source": [
    "## Bottom Performing Schools (By % Overall Passing)"
   ]
  },
  {
   "cell_type": "code",
   "execution_count": null,
   "metadata": {},
   "outputs": [],
   "source": [
    "# Sort the schools by `% Overall Passing` in ascending order and display the top 5 rows.\n",
    "bottom_schools = per_school_summary.sort_values([\"% Overall Passing\"], ascending=False)\n",
    "bottom_schools.head(5)"
   ]
  },
  {
   "cell_type": "markdown",
   "metadata": {},
   "source": [
    "## Math Scores by Grade"
   ]
  },
  {
   "cell_type": "code",
   "execution_count": null,
   "metadata": {},
   "outputs": [],
   "source": [
    "# Use the code provided to separate the data by grade\n",
    "ninth_graders = school_data_complete[(school_data_complete[\"grade\"] == \"9th\")]\n",
    "tenth_graders = school_data_complete[(school_data_complete[\"grade\"] == \"10th\")]\n",
    "eleventh_graders = school_data_complete[(school_data_complete[\"grade\"] == \"11th\")]\n",
    "twelfth_graders = school_data_complete[(school_data_complete[\"grade\"] == \"12th\")]\n",
    "\n",
    "# Group by `school_name` and take the mean of the `math_score` column for each.\n",
    "ninth_grade_math_scores = \n",
    "tenth_grader_math_scores = \n",
    "eleventh_grader_math_scores = \n",
    "twelfth_grader_math_scores = \n",
    "\n",
    "# Combine each of the scores above into single DataFrame called `math_scores_by_grade`\n",
    "math_scores_by_grade = \n",
    "\n",
    "# Minor data wrangling\n",
    "math_scores_by_grade.index.name = None\n",
    "\n",
    "# Display the DataFrame\n",
    "math_scores_by_grade"
   ]
  },
  {
   "cell_type": "markdown",
   "metadata": {},
   "source": [
    "## Reading Score by Grade "
   ]
  },
  {
   "cell_type": "code",
   "execution_count": null,
   "metadata": {},
   "outputs": [],
   "source": [
    "# Use the code provided to separate the data by grade\n",
    "ninth_graders = school_data_complete[(school_data_complete[\"grade\"] == \"9th\")]\n",
    "tenth_graders = school_data_complete[(school_data_complete[\"grade\"] == \"10th\")]\n",
    "eleventh_graders = school_data_complete[(school_data_complete[\"grade\"] == \"11th\")]\n",
    "twelfth_graders = school_data_complete[(school_data_complete[\"grade\"] == \"12th\")]\n",
    "\n",
    "# Group by `school_name` and take the mean of the the `reading_score` column for each.\n",
    "ninth_grade_reading_scores = ninth_graders.groupby([\"school_name\"]).mean()[\"reading_score\"]\n",
    "tenth_grader_reading_scores = tenth_graders.groupby([\"school_name\"]).mean()[\"reading_score\"]\n",
    "eleventh_grader_reading_scores = eleventh_graders.groupby([\"school_name\"]).mean()[\"reading_score\"]\n",
    "twelfth_grader_reading_scores = twelfth_graders.groupby([\"school_name\"]).mean()[\"reading_score\"]\n",
    "\n",
    "# Combine each of the scores above into single DataFrame called `reading_scores_by_grade`\n",
    "reading_scores_by_grade = \n",
    "pd.DataFrame({\"9th\": ninth_graders_scores, \"10th\": tenth_graders_scores,\n",
    "                                \"11th\": eleventh_graders_scores, \"12th\": twelfth_graders_scores})\n",
    "# Minor data wrangling\n",
    "reading_scores_by_grade = reading_scores_by_grade[[\"9th\", \"10th\", \"11th\", \"12th\"]]\n",
    "reading_scores_by_grade.index.name = None\n",
    "\n",
    "# Display the DataFrame\n",
    "reading_scores_by_grade"
   ]
  },
  {
   "cell_type": "markdown",
   "metadata": {},
   "source": [
    "## Scores by School Spending"
   ]
  },
  {
   "cell_type": "code",
   "execution_count": null,
   "metadata": {},
   "outputs": [],
   "source": [
    "# Establish the bins \n",
    "spending_bins = [0, 585, 630, 645, 680]\n",
    "labels = [\"<$585\", \"$585-630\", \"$630-645\", \"$645-680\"]"
   ]
  },
  {
   "cell_type": "code",
   "execution_count": null,
   "metadata": {},
   "outputs": [],
   "source": [
    "# Create a copy of the school summary since it has the \"Per Student Budget\" \n",
    "school_spending_df = per_school_summary.copy()"
   ]
  },
  {
   "cell_type": "code",
   "execution_count": null,
   "metadata": {},
   "outputs": [],
   "source": [
    "# Use `pd.cut` to categorize spending based on the bins.\n",
    "school_spending_df[\"Spending Ranges (Per Student)\"] = pd.cut(per_school_capita, spending_bins, labels=group_names, right=False\n",
    "school_spending_df"
   ]
  },
  {
   "cell_type": "code",
   "execution_count": null,
   "metadata": {},
   "outputs": [],
   "source": [
    "#  Calculate averages for the desired columns. \n",
    "spending_math_scores = school_spending_df.groupby([\"Spending Ranges (Per Student)\"])[\"Average Math Score\"].mean()\n",
    "spending_reading_scores = school_spending_df.groupby([\"Spending Ranges (Per Student)\"])[\"Average Reading Score\"].mean()\n",
    "spending_passing_math = school_spending_df.groupby([\"Spending Ranges (Per Student)\"])[\"% Passing Math\"].mean()\n",
    "spending_passing_reading = school_spending_df.groupby([\"Spending Ranges (Per Student)\"])[\"% Passing Reading\"].mean()\n",
    "overall_passing_spending = school_spending_df.groupby([\"Spending Ranges (Per Student)\"])[\"% Overall Passing\"].mean()"
   ]
  },
  {
   "cell_type": "code",
   "execution_count": null,
   "metadata": {},
   "outputs": [],
   "source": [
    "# Assemble into DataFrame\n",
    "spending_summary = pd.DataFrame({\"Average Math Score\" : spending_math_scores.round(2),\n",
    "                                 \"Average Reading Score\": spending_reading_scores.round(2),\n",
    "                                 \"% Passing Math\": spending_passing_math.round(2),\n",
    "                                 \"% Passing Reading\": spending_passing_reading.round(2),\n",
    "                                 \"% Overall Passing\": overall_passing_spending.round(2)})\n",
    "\n",
    "\n",
    "# Display results\n",
    "spending_summary"
   ]
  },
  {
   "cell_type": "markdown",
   "metadata": {},
   "source": [
    "## Scores by School Size"
   ]
  },
  {
   "cell_type": "code",
   "execution_count": null,
   "metadata": {},
   "outputs": [],
   "source": [
    "# Establish the bins.\n",
    "size_bins = [0, 1000, 2000, 5000]\n",
    "labels = [\"Small (<1000)\", \"Medium (1000-2000)\", \"Large (2000-5000)\"]"
   ]
  },
  {
   "cell_type": "code",
   "execution_count": null,
   "metadata": {},
   "outputs": [],
   "source": [
    "# Categorize the spending based on the bins\n",
    "# Use `pd.cut` on the \"Total Students\" column of the `per_school_summary` DataFrame.\n",
    "\n",
    "per_school_summary[\"School Size\"] = pd.cut(per_school_summary[\"Total Students\"], size_bins, labels=group_names, right=False)\n",
    "per_school_summary"
   ]
  },
  {
   "cell_type": "code",
   "execution_count": null,
   "metadata": {},
   "outputs": [],
   "source": [
    "# Calculate averages for the desired columns. \n",
    "size_math_scores = per_school_summary.groupby([\"School Size\"])[\"Average Math Score\"].mean()\n",
    "size_reading_scores = per_school_summary.groupby([\"School Size\"])[\"Average Reading Score\"].mean()\n",
    "size_passing_math = per_school_summary.groupby([\"School Size\"])[\"% Passing Math\"].mean()\n",
    "size_passing_reading = per_school_summary.groupby([\"School Size\"])[\"% Passing Reading\"].mean()\n",
    "size_overall_passing = per_school_summary.groupby([\"School Size\"])[\"% Overall Passing\"].mean()"
   ]
  },
  {
   "cell_type": "code",
   "execution_count": null,
   "metadata": {
    "scrolled": true
   },
   "outputs": [],
   "source": [
    "# Create a DataFrame called `size_summary` that breaks down school performance based on school size (small, medium, or large).\n",
    "# Use the scores above to create a new DataFrame called `size_summary`\n",
    "size_summary = pd.DataFrame({\"Average Math Score\" : size_math_scores,\n",
    "                             \"Average Reading Score\": size_reading_scores,\n",
    "                             \"% Passing Math\": size_passing_math,\n",
    "                             \"% Passing Reading\": size_passing_reading,\n",
    "                             \"% Overall Passing\": size_overall_passing})\n",
    "\n",
    "\n",
    "# Display results\n",
    "size_summary"
   ]
  },
  {
   "cell_type": "markdown",
   "metadata": {},
   "source": [
    "## Scores by School Type"
   ]
  },
  {
   "cell_type": "code",
   "execution_count": null,
   "metadata": {},
   "outputs": [],
   "source": [
    "# Group the per_school_summary DataFrame by \"School Type\" and average the results.\n",
    "average_math_score_by_type = per_school_summary.groupby([\"School Type\"])[\"Average Math Score\"].mean()\n",
    "average_reading_score_by_type = per_school_summary.groupby([\"School Type\"])[\"Average Reading Score\"].mean()\n",
    "average_percent_passing_math_by_type = per_school_summary.groupby([\"School Type\"])[\"% Passing Math\"].mean()\n",
    "average_percent_passing_reading_by_type = per_school_summary.groupby([\"School Type\"])[\"% Passing Reading\"].mean()\n",
    "average_percent_overall_passing_by_type = per_school_summary.groupby([\"School Type\"])[\"% Overall Passing\"].mean()"
   ]
  },
  {
   "cell_type": "code",
   "execution_count": null,
   "metadata": {},
   "outputs": [],
   "source": [
    "# Assemble the new data by type into a DataFrame called `type_summary`\n",
    "type_summary = pd.DataFrame({\"Average Math Score\" : type_math_scores,\n",
    "                             \"Average Reading Score\": type_reading_scores,\n",
    "                             \"% Passing Math\": type_passing_math,\n",
    "                             \"% Passing Reading\": type_passing_reading,\n",
    "                             \"% Overall Passing\": type_overall_passing})\n",
    "\n",
    "\n",
    "# Display results\n",
    "type_summary"
   ]
  },
  {
   "cell_type": "code",
   "execution_count": null,
   "metadata": {},
   "outputs": [],
   "source": []
  }
 ],
 "metadata": {
  "anaconda-cloud": {},
  "kernel_info": {
   "name": "python3"
  },
  "kernelspec": {
   "display_name": "Python 3 (ipykernel)",
   "language": "python",
   "name": "python3"
  },
  "language_info": {
   "codemirror_mode": {
    "name": "ipython",
    "version": 3
   },
   "file_extension": ".py",
   "mimetype": "text/x-python",
   "name": "python",
   "nbconvert_exporter": "python",
   "pygments_lexer": "ipython3",
   "version": "3.11.5"
  },
  "latex_envs": {
   "LaTeX_envs_menu_present": true,
   "autoclose": false,
   "autocomplete": true,
   "bibliofile": "biblio.bib",
   "cite_by": "apalike",
   "current_citInitial": 1,
   "eqLabelWithNumbers": true,
   "eqNumInitial": 1,
   "hotkeys": {
    "equation": "Ctrl-E",
    "itemize": "Ctrl-I"
   },
   "labels_anchors": false,
   "latex_user_defs": false,
   "report_style_numbering": false,
   "user_envs_cfg": false
  },
  "nteract": {
   "version": "0.8.4"
  },
  "vscode": {
   "interpreter": {
    "hash": "5384d77d82de63fd599f73e77f9ec786e7719288bf80a29ec0288c670ac3cf32"
   }
  },
  "widgets": {
   "application/vnd.jupyter.widget-state+json": {
    "state": {},
    "version_major": 2,
    "version_minor": 0
   }
  }
 },
 "nbformat": 4,
 "nbformat_minor": 4
}
